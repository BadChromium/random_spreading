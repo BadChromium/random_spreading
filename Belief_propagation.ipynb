{
 "cells": [
  {
   "cell_type": "code",
   "execution_count": 42,
   "metadata": {},
   "outputs": [],
   "source": [
    "import numpy as np\n",
    "import scipy as sp\n",
    "from scipy import signal\n",
    "from factor import *\n",
    "from factor_graph import *"
   ]
  },
  {
   "attachments": {},
   "cell_type": "markdown",
   "metadata": {},
   "source": [
    "# Belief Propagation"
   ]
  },
  {
   "attachments": {},
   "cell_type": "markdown",
   "metadata": {},
   "source": [
    "___\n",
    "$\\def\\abs#1{\\left\\lvert #1 \\right\\rvert}\n",
    "\\def\\Set#1{\\left\\{ #1 \\right\\}}\n",
    "\\def\\mc#1{\\mathcal{#1}}\n",
    "\\def\\M#1{\\boldsymbol{#1}}\n",
    "\\def\\R#1{\\mathsf{#1}}\n",
    "\\def\\RM#1{\\boldsymbol{\\mathsf{#1}}}\n",
    "\\def\\op#1{\\operatorname{#1}}\n",
    "\\def\\E{\\op{E}}\n",
    "\\def\\d{\\mathrm{\\mathstrut d}}$"
   ]
  },
  {
   "attachments": {},
   "cell_type": "markdown",
   "metadata": {},
   "source": [
    "The joint probability distribution of a factor graph of $N$ variables with $M$ functions can be found as follows:\n",
    "$$P(x_1, ...,x_n) = Z^{-1} \\prod_{k=1}^{M} \\psi_k(x_k)$$\n",
    "\n",
    "Denote $\\psi(j,i)$ as the factor between two adjacent nodes.\n",
    "\n",
    "The Sum-Product Massage Passing is represeted as follows:\n",
    "\n",
    "$$m_{i \\to j}^t (i) = \\sum_{j} \\psi (j,i) \\prod_{k \\in \\mc{N}(i) ∖ j} m_{k \\to i}^t(k) $$"
   ]
  },
  {
   "attachments": {},
   "cell_type": "markdown",
   "metadata": {},
   "source": [
    "## Factor Product and Distributions"
   ]
  },
  {
   "attachments": {},
   "cell_type": "markdown",
   "metadata": {},
   "source": [
    "A factor object is represented with variable name and a numpy array-like distributions. E.g. $P(b)$"
   ]
  },
  {
   "cell_type": "code",
   "execution_count": 17,
   "metadata": {},
   "outputs": [
    {
     "data": {
      "text/plain": [
       "array([0.3, 0.7])"
      ]
     },
     "execution_count": 17,
     "metadata": {},
     "output_type": "execute_result"
    }
   ],
   "source": [
    "P = factor(['b'], np.array([0.3,0.7]))\n",
    "P.get_distribution()"
   ]
  },
  {
   "cell_type": "code",
   "execution_count": 2,
   "metadata": {},
   "outputs": [],
   "source": [
    "def factor_product(x, y):\n",
    "    if x.is_none() or y.is_none():\n",
    "        raise Exception('One of the factors is None')\n",
    "    \n",
    "    xy, xy_in_x_ind, xy_in_y_ind = np.intersect1d(x.get_variables(), y.get_variables(), return_indices=True)\n",
    "    \n",
    "    if xy.size == 0:\n",
    "        raise Exception('Factors do not have common variables')\n",
    "    \n",
    "    if not np.all(x.get_shape()[xy_in_x_ind] == y.get_shape()[xy_in_y_ind]):\n",
    "        raise Exception('Common variables have different order')\n",
    "    \n",
    "    x_not_in_y = np.setdiff1d(x.get_variables(), y.get_variables(), assume_unique=True)\n",
    "    y_not_in_x = np.setdiff1d(y.get_variables(), x.get_variables(), assume_unique=True)\n",
    "    \n",
    "    x_mask = np.isin(x.get_variables(), xy, invert=True)\n",
    "    y_mask = np.isin(y.get_variables(), xy, invert=True)\n",
    "    \n",
    "    x_ind = np.array([-1]*len(x.get_variables()), dtype=int)\n",
    "    y_ind = np.array([-1]*len(y.get_variables()), dtype=int)\n",
    "    \n",
    "    x_ind[x_mask] = np.arange(np.sum(x_mask))\n",
    "    y_ind[y_mask] = np.arange(np.sum(y_mask)) + np.sum(np.invert(y_mask))\n",
    "    \n",
    "    x_ind[xy_in_x_ind] = np.arange(len(xy)) + np.sum(x_mask)\n",
    "    y_ind[xy_in_y_ind] = np.arange(len(xy))\n",
    "    \n",
    "    x_distribution = np.moveaxis(x.get_distribution(), range(len(x_ind)), x_ind)\n",
    "    y_distribution = np.moveaxis(y.get_distribution(), range(len(y_ind)), y_ind)\n",
    "                \n",
    "    res_distribution =   x_distribution[tuple([slice(None)]*len(x.get_variables())+[None]*len(y_not_in_x))] \\\n",
    "                       * y_distribution[tuple([None]*len(x_not_in_y)+[slice(None)])]\n",
    "    \n",
    "    return factor(list(x_not_in_y)+list(xy)+list(y_not_in_x), res_distribution)"
   ]
  },
  {
   "attachments": {},
   "cell_type": "markdown",
   "metadata": {},
   "source": [
    "Consider the formula $P(a,b) = P(a \\mid b)P(b)$"
   ]
  },
  {
   "cell_type": "code",
   "execution_count": 7,
   "metadata": {},
   "outputs": [
    {
     "data": {
      "text/plain": [
       "array([[0.09, 0.56],\n",
       "       [0.06, 0.07],\n",
       "       [0.15, 0.07]])"
      ]
     },
     "execution_count": 7,
     "metadata": {},
     "output_type": "execute_result"
    }
   ],
   "source": [
    "phi_1 = factor(['a','b'], np.array([[0.3,0.8],[0.2,0.1],[0.5,0.1]]))\n",
    "phi_2 = factor(['b'], np.array([0.3,0.7]))\n",
    "phi_3 = factor_product(phi_1, phi_2)\n",
    "phi_3.get_distribution()"
   ]
  },
  {
   "attachments": {},
   "cell_type": "markdown",
   "metadata": {},
   "source": [
    "Compute the marginalization of a given joint distribution."
   ]
  },
  {
   "cell_type": "code",
   "execution_count": 8,
   "metadata": {},
   "outputs": [],
   "source": [
    "def factor_marginalization(x, variables):\n",
    "    variables = np.array(variables)\n",
    "    \n",
    "    if x.is_none():\n",
    "        raise Exception('Factor is None')\n",
    "    \n",
    "    if not np.all(np.in1d(variables, x.get_variables())):\n",
    "        raise Exception('Factor do not contain given variables')\n",
    "    \n",
    "    res_variables    = np.setdiff1d(x.get_variables(), variables, assume_unique=True)\n",
    "    res_distribution = np.sum(x.get_distribution(),\n",
    "                              tuple(np.where(np.isin(x.get_variables(), variables))[0]))\n",
    "    \n",
    "    return factor(res_variables, res_distribution)"
   ]
  },
  {
   "cell_type": "code",
   "execution_count": 15,
   "metadata": {},
   "outputs": [
    {
     "data": {
      "text/plain": [
       "array([0.3, 0.7])"
      ]
     },
     "execution_count": 15,
     "metadata": {},
     "output_type": "execute_result"
    }
   ],
   "source": [
    "phi_4 = factor_marginalization(phi_3,['a'])\n",
    "phi_4.get_distribution()"
   ]
  },
  {
   "attachments": {},
   "cell_type": "markdown",
   "metadata": {},
   "source": [
    "## Factor Graph"
   ]
  },
  {
   "cell_type": "code",
   "execution_count": 44,
   "metadata": {},
   "outputs": [
    {
     "ename": "NameError",
     "evalue": "name 'factor' is not defined",
     "output_type": "error",
     "traceback": [
      "\u001b[0;31m---------------------------------------------------------------------------\u001b[0m",
      "\u001b[0;31mNameError\u001b[0m                                 Traceback (most recent call last)",
      "\u001b[0;32m<ipython-input-44-fd26effde4c3>\u001b[0m in \u001b[0;36m<module>\u001b[0;34m\u001b[0m\n\u001b[1;32m      1\u001b[0m \u001b[0mpgm\u001b[0m \u001b[0;34m=\u001b[0m \u001b[0mfactor_graph\u001b[0m\u001b[0;34m(\u001b[0m\u001b[0;34m)\u001b[0m\u001b[0;34m\u001b[0m\u001b[0;34m\u001b[0m\u001b[0m\n\u001b[0;32m----> 2\u001b[0;31m \u001b[0mpgm\u001b[0m\u001b[0;34m.\u001b[0m\u001b[0madd_factor_node\u001b[0m\u001b[0;34m(\u001b[0m\u001b[0;34m'p12'\u001b[0m\u001b[0;34m,\u001b[0m \u001b[0mfactor\u001b[0m\u001b[0;34m(\u001b[0m\u001b[0;34m[\u001b[0m\u001b[0;34m'x1'\u001b[0m\u001b[0;34m,\u001b[0m\u001b[0;34m'x2'\u001b[0m\u001b[0;34m]\u001b[0m\u001b[0;34m)\u001b[0m\u001b[0;34m)\u001b[0m\u001b[0;34m\u001b[0m\u001b[0;34m\u001b[0m\u001b[0m\n\u001b[0m\u001b[1;32m      3\u001b[0m \u001b[0mpgm\u001b[0m\u001b[0;34m.\u001b[0m\u001b[0madd_factor_node\u001b[0m\u001b[0;34m(\u001b[0m\u001b[0;34m'p32'\u001b[0m\u001b[0;34m,\u001b[0m \u001b[0mfactor\u001b[0m\u001b[0;34m(\u001b[0m\u001b[0;34m[\u001b[0m\u001b[0;34m'x2'\u001b[0m\u001b[0;34m,\u001b[0m\u001b[0;34m'x3'\u001b[0m\u001b[0;34m]\u001b[0m\u001b[0;34m)\u001b[0m\u001b[0;34m)\u001b[0m\u001b[0;34m\u001b[0m\u001b[0;34m\u001b[0m\u001b[0m\n\u001b[1;32m      4\u001b[0m \u001b[0mpgm\u001b[0m\u001b[0;34m.\u001b[0m\u001b[0madd_factor_node\u001b[0m\u001b[0;34m(\u001b[0m\u001b[0;34m'p24'\u001b[0m\u001b[0;34m,\u001b[0m \u001b[0mfactor\u001b[0m\u001b[0;34m(\u001b[0m\u001b[0;34m[\u001b[0m\u001b[0;34m'x2'\u001b[0m\u001b[0;34m,\u001b[0m\u001b[0;34m'x4'\u001b[0m\u001b[0;34m]\u001b[0m\u001b[0;34m)\u001b[0m\u001b[0;34m)\u001b[0m\u001b[0;34m\u001b[0m\u001b[0;34m\u001b[0m\u001b[0m\n\u001b[1;32m      5\u001b[0m \u001b[0mprint\u001b[0m\u001b[0;34m(\u001b[0m\u001b[0mpgm\u001b[0m\u001b[0;34m)\u001b[0m\u001b[0;34m\u001b[0m\u001b[0;34m\u001b[0m\u001b[0m\n",
      "\u001b[0;32m~/OneDrive - City University of Hong Kong/Research/random/random_spreading-1/factor_graph.py\u001b[0m in \u001b[0;36madd_factor_node\u001b[0;34m(self, f_name, factor_)\u001b[0m\n\u001b[1;32m     36\u001b[0m         \u001b[0;32mif\u001b[0m \u001b[0;34m(\u001b[0m\u001b[0mself\u001b[0m\u001b[0;34m.\u001b[0m\u001b[0mget_node_status\u001b[0m\u001b[0;34m(\u001b[0m\u001b[0mf_name\u001b[0m\u001b[0;34m)\u001b[0m \u001b[0;34m!=\u001b[0m \u001b[0;32mFalse\u001b[0m\u001b[0;34m)\u001b[0m \u001b[0;32mor\u001b[0m \u001b[0;34m(\u001b[0m\u001b[0mf_name\u001b[0m \u001b[0;32min\u001b[0m \u001b[0mfactor_\u001b[0m\u001b[0;34m.\u001b[0m\u001b[0mget_variables\u001b[0m\u001b[0;34m(\u001b[0m\u001b[0;34m)\u001b[0m\u001b[0;34m)\u001b[0m\u001b[0;34m:\u001b[0m\u001b[0;34m\u001b[0m\u001b[0;34m\u001b[0m\u001b[0m\n\u001b[1;32m     37\u001b[0m             \u001b[0;32mraise\u001b[0m \u001b[0mException\u001b[0m\u001b[0;34m(\u001b[0m\u001b[0;34m'Invalid factor name'\u001b[0m\u001b[0;34m)\u001b[0m\u001b[0;34m\u001b[0m\u001b[0;34m\u001b[0m\u001b[0m\n\u001b[0;32m---> 38\u001b[0;31m         \u001b[0;32mif\u001b[0m \u001b[0mtype\u001b[0m\u001b[0;34m(\u001b[0m\u001b[0mfactor_\u001b[0m\u001b[0;34m)\u001b[0m \u001b[0;32mis\u001b[0m \u001b[0;32mnot\u001b[0m \u001b[0mfactor\u001b[0m\u001b[0;34m:\u001b[0m\u001b[0;34m\u001b[0m\u001b[0;34m\u001b[0m\u001b[0m\n\u001b[0m\u001b[1;32m     39\u001b[0m             \u001b[0;32mraise\u001b[0m \u001b[0mException\u001b[0m\u001b[0;34m(\u001b[0m\u001b[0;34m'Invalid factor_'\u001b[0m\u001b[0;34m)\u001b[0m\u001b[0;34m\u001b[0m\u001b[0;34m\u001b[0m\u001b[0m\n\u001b[1;32m     40\u001b[0m         \u001b[0;32mfor\u001b[0m \u001b[0mv_name\u001b[0m \u001b[0;32min\u001b[0m \u001b[0mfactor_\u001b[0m\u001b[0;34m.\u001b[0m\u001b[0mget_variables\u001b[0m\u001b[0;34m(\u001b[0m\u001b[0;34m)\u001b[0m\u001b[0;34m:\u001b[0m\u001b[0;34m\u001b[0m\u001b[0;34m\u001b[0m\u001b[0m\n",
      "\u001b[0;31mNameError\u001b[0m: name 'factor' is not defined"
     ]
    }
   ],
   "source": [
    "pgm = factor_graph()\n",
    "pgm.add_factor_node('p12', factor(['x1','x2']))\n",
    "pgm.add_factor_node('p32', factor(['x2','x3']))\n",
    "pgm.add_factor_node('p24', factor(['x2','x4']))\n",
    "print(pgm)"
   ]
  },
  {
   "cell_type": "code",
   "execution_count": 19,
   "metadata": {},
   "outputs": [
    {
     "data": {
      "image/png": "[encoded data removed]",
      "text/plain": [
       "<Figure size 432x288 with 1 Axes>"
      ]
     },
     "metadata": {},
     "output_type": "display_data"
    }
   ],
   "source": [
    "import matplotlib.pyplot as plt\n",
    "import networkx as nx\n",
    "\n",
    "G = nx.Graph()\n",
    "\n",
    "G.add_edge(\"a\", \"b\", weight=0.1)\n",
    "G.add_edge(\"a\", \"c\", weight=0.2)\n",
    "G.add_edge(\"c\", \"d\", weight=0.1)\n",
    "G.add_edge(\"c\", \"e\", weight=0.7)\n",
    "G.add_edge(\"c\", \"f\", weight=0.9)\n",
    "G.add_edge(\"a\", \"d\", weight=0.8)\n",
    "\n",
    "elarge = [(u, v) for (u, v, d) in G.edges(data=True) if d[\"weight\"] > 0.5]\n",
    "esmall = [(u, v) for (u, v, d) in G.edges(data=True) if d[\"weight\"] <= 0.5]\n",
    "\n",
    "pos = nx.spring_layout(G, seed=7)  # positions for all nodes - seed for reproducibility\n",
    "\n",
    "# nodes\n",
    "nx.draw_networkx_nodes(G, pos, node_size=700)\n",
    "\n",
    "# edges\n",
    "nx.draw_networkx_edges(G, pos, edgelist=elarge, width=6)\n",
    "nx.draw_networkx_edges(\n",
    "    G, pos, edgelist=esmall, width=6, alpha=0.5, edge_color=\"b\", style=\"dashed\"\n",
    ")\n",
    "\n",
    "# node labels\n",
    "nx.draw_networkx_labels(G, pos, font_size=20, font_family=\"sans-serif\")\n",
    "# edge weight labels\n",
    "edge_labels = nx.get_edge_attributes(G, \"weight\")\n",
    "nx.draw_networkx_edge_labels(G, pos, edge_labels)\n",
    "\n",
    "ax = plt.gca()\n",
    "ax.margins(0.08)\n",
    "plt.axis(\"off\")\n",
    "plt.tight_layout()\n",
    "plt.show()"
   ]
  },
  {
   "cell_type": "code",
   "execution_count": 23,
   "metadata": {},
   "outputs": [],
   "source": [
    "data = np.random.randn(10000)\n",
    "x = np.sort(data)\n",
    "y = sp.stats.norm.cdf(x)\n"
   ]
  },
  {
   "cell_type": "code",
   "execution_count": 24,
   "metadata": {},
   "outputs": [
    {
     "data": {
      "text/plain": [
       "Text(0.5, 0, 'x')"
      ]
     },
     "execution_count": 24,
     "metadata": {},
     "output_type": "execute_result"
    },
    {
     "data": {
      "image/png": "[encoded data removed]",
      "text/plain": [
       "<Figure size 432x288 with 1 Axes>"
      ]
     },
     "metadata": {
      "needs_background": "light"
     },
     "output_type": "display_data"
    }
   ],
   "source": [
    "plt.plot(x,y)\n",
    "plt.xlabel('x')"
   ]
  },
  {
   "cell_type": "code",
   "execution_count": 25,
   "metadata": {},
   "outputs": [],
   "source": [
    "# Define the CDF and PDF of the exponential distribution\n",
    "def expon_cdf(t, s=1):\n",
    "    return 1 - math.exp(-1 / s * t)\n",
    "\n",
    "def expon_pdf(t, s=1):\n",
    "    return 1 / s * math.exp(-1 / s * t)"
   ]
  },
  {
   "cell_type": "code",
   "execution_count": 41,
   "metadata": {},
   "outputs": [],
   "source": [
    "# Suppose the infected nodes have the attribute '1' and susceptible '0'\n",
    "nodes = [(\"a\", 1),(\"b\", 1),(\"c\", 1),(\"d\", 0)]\n",
    "boundary_nodes = [(\"c\", 1),(\"d\", 0)]\n",
    "t = 1\n",
    "\n",
    "def bp(t, boundary_nodes):\n",
    "    m = 1\n",
    "    for node in boundary_nodes:\n",
    "        m = m * expon_cdf(t) if node[1] == 1 else m * (1 - expon_cdf(t))\n",
    "        m_p = signal.fftconvolve(m,expon_pdf(t))\n",
    "    return m_p\n"
   ]
  },
  {
   "cell_type": "code",
   "execution_count": null,
   "metadata": {},
   "outputs": [],
   "source": []
  }
 ],
 "metadata": {
  "kernelspec": {
   "display_name": "base",
   "language": "python",
   "name": "python3"
  },
  "language_info": {
   "codemirror_mode": {
    "name": "ipython",
    "version": 3
   },
   "file_extension": ".py",
   "mimetype": "text/x-python",
   "name": "python",
   "nbconvert_exporter": "python",
   "pygments_lexer": "ipython3",
   "version": "3.8.5"
  },
  "orig_nbformat": 4
 },
 "nbformat": 4,
 "nbformat_minor": 2
}
