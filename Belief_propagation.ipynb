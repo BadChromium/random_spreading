{
 "cells": [
  {
   "cell_type": "code",
   "execution_count": 5,
   "metadata": {},
   "outputs": [],
   "source": [
    "import numpy as np\n",
    "import factor"
   ]
  },
  {
   "cell_type": "code",
   "execution_count": 6,
   "metadata": {},
   "outputs": [],
   "source": [
    "def factor_product(x, y):\n",
    "    if x.is_none() or y.is_none():\n",
    "        raise Exception('One of the factors is None')\n",
    "    \n",
    "    xy, xy_in_x_ind, xy_in_y_ind = np.intersect1d(x.get_variables(), y.get_variables(), return_indices=True)\n",
    "    \n",
    "    if xy.size == 0:\n",
    "        raise Exception('Factors do not have common variables')\n",
    "    \n",
    "    if not np.all(x.get_shape()[xy_in_x_ind] == y.get_shape()[xy_in_y_ind]):\n",
    "        raise Exception('Common variables have different order')\n",
    "    \n",
    "    x_not_in_y = np.setdiff1d(x.get_variables(), y.get_variables(), assume_unique=True)\n",
    "    y_not_in_x = np.setdiff1d(y.get_variables(), x.get_variables(), assume_unique=True)\n",
    "    \n",
    "    x_mask = np.isin(x.get_variables(), xy, invert=True)\n",
    "    y_mask = np.isin(y.get_variables(), xy, invert=True)\n",
    "    \n",
    "    x_ind = np.array([-1]*len(x.get_variables()), dtype=int)\n",
    "    y_ind = np.array([-1]*len(y.get_variables()), dtype=int)\n",
    "    \n",
    "    x_ind[x_mask] = np.arange(np.sum(x_mask))\n",
    "    y_ind[y_mask] = np.arange(np.sum(y_mask)) + np.sum(np.invert(y_mask))\n",
    "    \n",
    "    x_ind[xy_in_x_ind] = np.arange(len(xy)) + np.sum(x_mask)\n",
    "    y_ind[xy_in_y_ind] = np.arange(len(xy))\n",
    "    \n",
    "    x_distribution = np.moveaxis(x.get_distribution(), range(len(x_ind)), x_ind)\n",
    "    y_distribution = np.moveaxis(y.get_distribution(), range(len(y_ind)), y_ind)\n",
    "                \n",
    "    res_distribution =   x_distribution[tuple([slice(None)]*len(x.get_variables())+[None]*len(y_not_in_x))] \\\n",
    "                       * y_distribution[tuple([None]*len(x_not_in_y)+[slice(None)])]\n",
    "    \n",
    "    return factor(list(x_not_in_y)+list(xy)+list(y_not_in_x), res_distribution)"
   ]
  },
  {
   "attachments": {},
   "cell_type": "markdown",
   "metadata": {},
   "source": []
  }
 ],
 "metadata": {
  "kernelspec": {
   "display_name": "base",
   "language": "python",
   "name": "python3"
  },
  "language_info": {
   "codemirror_mode": {
    "name": "ipython",
    "version": 3
   },
   "file_extension": ".py",
   "mimetype": "text/x-python",
   "name": "python",
   "nbconvert_exporter": "python",
   "pygments_lexer": "ipython3",
   "version": "3.8.5"
  },
  "orig_nbformat": 4
 },
 "nbformat": 4,
 "nbformat_minor": 2
}
