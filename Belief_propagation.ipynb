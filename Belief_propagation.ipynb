{
 "cells": [
  {
   "cell_type": "code",
   "execution_count": 14,
   "metadata": {},
   "outputs": [],
   "source": [
    "import numpy as np\n",
    "from factor import *"
   ]
  },
  {
   "attachments": {},
   "cell_type": "markdown",
   "metadata": {},
   "source": [
    "# Belief Propagation"
   ]
  },
  {
   "attachments": {},
   "cell_type": "markdown",
   "metadata": {},
   "source": [
    "___\n",
    "$\\def\\abs#1{\\left\\lvert #1 \\right\\rvert}\n",
    "\\def\\Set#1{\\left\\{ #1 \\right\\}}\n",
    "\\def\\mc#1{\\mathcal{#1}}\n",
    "\\def\\M#1{\\boldsymbol{#1}}\n",
    "\\def\\R#1{\\mathsf{#1}}\n",
    "\\def\\RM#1{\\boldsymbol{\\mathsf{#1}}}\n",
    "\\def\\op#1{\\operatorname{#1}}\n",
    "\\def\\E{\\op{E}}\n",
    "\\def\\d{\\mathrm{\\mathstrut d}}$"
   ]
  },
  {
   "attachments": {},
   "cell_type": "markdown",
   "metadata": {},
   "source": [
    "The joint probability distribution of a factor graph of $N$ variables with $M$ functions can be found as follows:\n",
    "$$P(x_1, ...,x_n) = Z^{-1} \\prod_{k=1}^{M} \\psi_k(x_k)$$\n",
    "\n",
    "Denote $\\tilde{q}_u (i)$ as the $i$-th entry of vector $\\tilde{\\M{q}}_u$ which is the probability that node $u$ in the class $i$. $\\tilde{p}_u (i)$ and $\\tilde{H}_{uv} (i,j)$ have the similar meaning.\n",
    "\n",
    "Sum-Product Massage Passing\n",
    "\n",
    "$$m_{u \\to v}(i) = \\sum_{j} \\tilde{H}_{uv} (j,i) \\prod_{k \\in \\mc{N}(u) ∖ v} m_{k \\to u}(j) $$\n",
    "\n",
    "Inference of marginal via massage\n",
    "$$\\tilde{p}_u (i) = \\frac{1}{Z_u} \\tilde{q}_u (i) \\prod_{k \\in \\mc{N}(u)} m_{k \\to u} (i)$$"
   ]
  },
  {
   "attachments": {},
   "cell_type": "markdown",
   "metadata": {},
   "source": [
    "## Factor Product and Distributions"
   ]
  },
  {
   "attachments": {},
   "cell_type": "markdown",
   "metadata": {},
   "source": [
    "A factor object is represented with variable name and a numpy array-like distributions. E.g. $P(b)$"
   ]
  },
  {
   "cell_type": "code",
   "execution_count": 16,
   "metadata": {},
   "outputs": [],
   "source": [
    "phi_2 = factor(['b'], np.array([0.3,0.7]))"
   ]
  },
  {
   "cell_type": "code",
   "execution_count": 2,
   "metadata": {},
   "outputs": [],
   "source": [
    "def factor_product(x, y):\n",
    "    if x.is_none() or y.is_none():\n",
    "        raise Exception('One of the factors is None')\n",
    "    \n",
    "    xy, xy_in_x_ind, xy_in_y_ind = np.intersect1d(x.get_variables(), y.get_variables(), return_indices=True)\n",
    "    \n",
    "    if xy.size == 0:\n",
    "        raise Exception('Factors do not have common variables')\n",
    "    \n",
    "    if not np.all(x.get_shape()[xy_in_x_ind] == y.get_shape()[xy_in_y_ind]):\n",
    "        raise Exception('Common variables have different order')\n",
    "    \n",
    "    x_not_in_y = np.setdiff1d(x.get_variables(), y.get_variables(), assume_unique=True)\n",
    "    y_not_in_x = np.setdiff1d(y.get_variables(), x.get_variables(), assume_unique=True)\n",
    "    \n",
    "    x_mask = np.isin(x.get_variables(), xy, invert=True)\n",
    "    y_mask = np.isin(y.get_variables(), xy, invert=True)\n",
    "    \n",
    "    x_ind = np.array([-1]*len(x.get_variables()), dtype=int)\n",
    "    y_ind = np.array([-1]*len(y.get_variables()), dtype=int)\n",
    "    \n",
    "    x_ind[x_mask] = np.arange(np.sum(x_mask))\n",
    "    y_ind[y_mask] = np.arange(np.sum(y_mask)) + np.sum(np.invert(y_mask))\n",
    "    \n",
    "    x_ind[xy_in_x_ind] = np.arange(len(xy)) + np.sum(x_mask)\n",
    "    y_ind[xy_in_y_ind] = np.arange(len(xy))\n",
    "    \n",
    "    x_distribution = np.moveaxis(x.get_distribution(), range(len(x_ind)), x_ind)\n",
    "    y_distribution = np.moveaxis(y.get_distribution(), range(len(y_ind)), y_ind)\n",
    "                \n",
    "    res_distribution =   x_distribution[tuple([slice(None)]*len(x.get_variables())+[None]*len(y_not_in_x))] \\\n",
    "                       * y_distribution[tuple([None]*len(x_not_in_y)+[slice(None)])]\n",
    "    \n",
    "    return factor(list(x_not_in_y)+list(xy)+list(y_not_in_x), res_distribution)"
   ]
  },
  {
   "attachments": {},
   "cell_type": "markdown",
   "metadata": {},
   "source": [
    "Consider the formula $P(a,b) = P(a \\mid b)P(b)$"
   ]
  },
  {
   "cell_type": "code",
   "execution_count": 7,
   "metadata": {},
   "outputs": [
    {
     "data": {
      "text/plain": [
       "array([[0.09, 0.56],\n",
       "       [0.06, 0.07],\n",
       "       [0.15, 0.07]])"
      ]
     },
     "execution_count": 7,
     "metadata": {},
     "output_type": "execute_result"
    }
   ],
   "source": [
    "phi_1 = factor(['a','b'], np.array([[0.3,0.8],[0.2,0.1],[0.5,0.1]]))\n",
    "\n",
    "phi_3 = factor_product(phi_1, phi_2)\n",
    "phi_3.get_distribution()"
   ]
  },
  {
   "attachments": {},
   "cell_type": "markdown",
   "metadata": {},
   "source": [
    "Compute the marginalization of a given joint distribution."
   ]
  },
  {
   "cell_type": "code",
   "execution_count": 8,
   "metadata": {},
   "outputs": [],
   "source": [
    "def factor_marginalization(x, variables):\n",
    "    variables = np.array(variables)\n",
    "    \n",
    "    if x.is_none():\n",
    "        raise Exception('Factor is None')\n",
    "    \n",
    "    if not np.all(np.in1d(variables, x.get_variables())):\n",
    "        raise Exception('Factor do not contain given variables')\n",
    "    \n",
    "    res_variables    = np.setdiff1d(x.get_variables(), variables, assume_unique=True)\n",
    "    res_distribution = np.sum(x.get_distribution(),\n",
    "                              tuple(np.where(np.isin(x.get_variables(), variables))[0]))\n",
    "    \n",
    "    return factor(res_variables, res_distribution)"
   ]
  },
  {
   "cell_type": "code",
   "execution_count": 15,
   "metadata": {},
   "outputs": [
    {
     "data": {
      "text/plain": [
       "array([0.3, 0.7])"
      ]
     },
     "execution_count": 15,
     "metadata": {},
     "output_type": "execute_result"
    }
   ],
   "source": [
    "phi_4 = factor_marginalization(phi_3,['a'])\n",
    "phi_4.get_distribution()"
   ]
  },
  {
   "attachments": {},
   "cell_type": "markdown",
   "metadata": {},
   "source": [
    "## Factor Graph"
   ]
  },
  {
   "cell_type": "code",
   "execution_count": null,
   "metadata": {},
   "outputs": [],
   "source": []
  }
 ],
 "metadata": {
  "kernelspec": {
   "display_name": "base",
   "language": "python",
   "name": "python3"
  },
  "language_info": {
   "codemirror_mode": {
    "name": "ipython",
    "version": 3
   },
   "file_extension": ".py",
   "mimetype": "text/x-python",
   "name": "python",
   "nbconvert_exporter": "python",
   "pygments_lexer": "ipython3",
   "version": "3.8.5"
  },
  "orig_nbformat": 4
 },
 "nbformat": 4,
 "nbformat_minor": 2
}
