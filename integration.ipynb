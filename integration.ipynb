{
 "cells": [
  {
   "cell_type": "code",
   "execution_count": 1,
   "metadata": {},
   "outputs": [],
   "source": [
    "import numpy as np\n",
    "import networkx as nx\n",
    "from scipy.stats import gamma\n",
    "from scipy.integrate import quad, romberg, quadrature"
   ]
  },
  {
   "cell_type": "code",
   "execution_count": 2,
   "metadata": {},
   "outputs": [],
   "source": [
    "def find_next_child(G, source_node):\n",
    "    child_node = None\n",
    "    max_weight = 0\n",
    "    for node in source_node:\n",
    "        for neighbor in G.neighbors(node):\n",
    "            #print(f\"neighbor is {neighbor}\")\n",
    "            if neighbor not in source_node:\n",
    "                weight = G[node][neighbor]['weight']\n",
    "                if weight > max_weight:\n",
    "                    max_weight = weight\n",
    "                    child_node = neighbor\n",
    "                    #print(f\"child node is {child_node}\")\n",
    "    return child_node\n",
    "\n",
    "def find_parents(i, G, source=['s']):\n",
    "    parent_node = []\n",
    "    # First get all the neighbors of node i\n",
    "    candidate = G.neighbors(i)\n",
    "    for n in candidate:\n",
    "        # Find the nodes in the source set\n",
    "        if n in source:\n",
    "            parent_node.append(n)\n",
    "    return parent_node"
   ]
  },
  {
   "cell_type": "code",
   "execution_count": 12,
   "metadata": {},
   "outputs": [],
   "source": [
    "def compute_ccdf(x, k, theta):\n",
    "    return 1 - gamma.cdf(x, k, scale=theta)\n",
    "\n",
    "I = ['s']\n",
    "def product_ccdf(x, j, k, theta):\n",
    "    v = 1\n",
    "    for par in find_parents(j, G, source=I):\n",
    "        v *= compute_ccdf(x, k[par], theta[par])\n",
    "    return v\n",
    "\n",
    "def integrand_moment(x, j, k, theta, p):\n",
    "    return p * x**(p - 1) * product_ccdf(x, j, k, theta)\n",
    "\n",
    "def compute_moment(j, k, theta, p):\n",
    "    return quad(integrand_moment, 0, np.inf, args=(j, k, theta, p))[0]"
   ]
  },
  {
   "cell_type": "code",
   "execution_count": 8,
   "metadata": {},
   "outputs": [],
   "source": [
    "def compute_moment2(j, k, theta, p):\n",
    "    return romberg(integrand_moment, 0, np.inf, args=(j, k, theta, p))"
   ]
  },
  {
   "cell_type": "code",
   "execution_count": 15,
   "metadata": {},
   "outputs": [],
   "source": [
    "G = nx.Graph()\n",
    "G.add_nodes_from([\"s\", \"a\", \"b\", \"c\", \"d\", \"e\"])\n",
    "G.add_edge(\"s\", \"a\", weight=0.5)\n",
    "G.add_edge(\"s\", \"b\", weight=0.4)\n",
    "G.add_edge(\"s\", \"d\", weight=0.3)\n",
    "G.add_edge(\"s\", \"e\", weight=0.1)\n",
    "G.add_edge(\"a\", \"b\", weight=0.1)\n",
    "G.add_edge(\"b\", \"c\", weight=0.1)\n",
    "G.add_edge(\"b\", \"e\", weight=0.6)\n",
    "\n",
    "theta_s = 1\n",
    "k_s = 1\n",
    "E_s = k_s * theta_s\n",
    "V_s = k_s * theta_s**2\n",
    "\n",
    "j = 'a'\n",
    "k = {'s': k_s}\n",
    "theta = {'s': theta_s}\n",
    "\n",
    "moment_1 = compute_moment('a', k, theta, 1)\n",
    "moment_2 = compute_moment('a', k, theta, 2)"
   ]
  },
  {
   "cell_type": "code",
   "execution_count": 16,
   "metadata": {},
   "outputs": [
    {
     "name": "stdout",
     "output_type": "stream",
     "text": [
      "1.0000000000000002\n"
     ]
    }
   ],
   "source": [
    "# moment2 = compute_moment2('a', k, theta, 1)\n",
    "print(moment_1)"
   ]
  },
  {
   "cell_type": "code",
   "execution_count": 7,
   "metadata": {},
   "outputs": [
    {
     "data": {
      "text/plain": [
       "0.7499999999999998"
      ]
     },
     "execution_count": 7,
     "metadata": {},
     "output_type": "execute_result"
    }
   ],
   "source": [
    "def ccdf1(x):\n",
    "    return (1- gamma.cdf(x, 1, scale=1)) * (1 - gamma.cdf(x, 2, scale=1))\n",
    "\n",
    "quad(ccdf1, 0, np.inf)[0]"
   ]
  }
 ],
 "metadata": {
  "kernelspec": {
   "display_name": "base",
   "language": "python",
   "name": "python3"
  },
  "language_info": {
   "codemirror_mode": {
    "name": "ipython",
    "version": 3
   },
   "file_extension": ".py",
   "mimetype": "text/x-python",
   "name": "python",
   "nbconvert_exporter": "python",
   "pygments_lexer": "ipython3",
   "version": "3.8.5"
  },
  "orig_nbformat": 4
 },
 "nbformat": 4,
 "nbformat_minor": 2
}
