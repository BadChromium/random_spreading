{
 "cells": [
  {
   "cell_type": "code",
   "execution_count": 1,
   "metadata": {},
   "outputs": [],
   "source": [
    "%matplotlib inline\n",
    "import matplotlib.pyplot as plt\n",
    "import networkx as nx\n",
    "import numpy as np\n",
    "from scipy.integrate import quad\n",
    "from scipy.stats import gamma\n",
    "import scipy.special as sc"
   ]
  },
  {
   "cell_type": "code",
   "execution_count": 2,
   "metadata": {},
   "outputs": [],
   "source": [
    "def draw_graph(G):\n",
    "    elarge = [(u, v) for (u, v, d) in G.edges(data=True) if d[\"weight\"] > 0.5]\n",
    "    esmall = [(u, v) for (u, v, d) in G.edges(data=True) if d[\"weight\"] <= 0.5]\n",
    "\n",
    "    pos = nx.spring_layout(G, seed=7)  # positions for all nodes - seed for reproducibility\n",
    "\n",
    "    # nodes\n",
    "    nx.draw_networkx_nodes(G, pos, node_size=700)\n",
    "\n",
    "    # edges\n",
    "    nx.draw_networkx_edges(G, pos, edgelist=elarge, width=3)\n",
    "    nx.draw_networkx_edges(\n",
    "        G, pos, edgelist=esmall, width=3, alpha=0.5, edge_color=\"b\", style=\"dashed\"\n",
    "    )\n",
    "\n",
    "    # node labels\n",
    "    nx.draw_networkx_labels(G, pos, font_size=20, font_family=\"sans-serif\")\n",
    "    # edge weight labels\n",
    "    edge_labels = nx.get_edge_attributes(G, \"weight\")\n",
    "    nx.draw_networkx_edge_labels(G, pos, edge_labels)\n",
    "\n",
    "    ax = plt.gca()\n",
    "    ax.margins(0.08)\n",
    "    plt.axis(\"off\")\n",
    "    plt.tight_layout()\n",
    "    plt.show()\n",
    "\n",
    "def find_next_child(G, source_node):\n",
    "    child_node = None\n",
    "    max_weight = 0\n",
    "    for node in source_node:\n",
    "        for neighbor in G.neighbors(node):\n",
    "            #print(f\"neighbor is {neighbor}\")\n",
    "            if neighbor not in source_node:\n",
    "                weight = G[node][neighbor]['weight']\n",
    "                if weight > max_weight:\n",
    "                    max_weight = weight\n",
    "                    child_node = neighbor\n",
    "                    #print(f\"child node is {child_node}\")\n",
    "    return child_node\n",
    "\n",
    "def find_parents(i, G, source=['s']):\n",
    "    parent_node = []\n",
    "    # First get all the neighbors of node i\n",
    "    candidate = G.neighbors(i)\n",
    "    for n in candidate:\n",
    "        # Find the nodes in the source set\n",
    "        if n in source:\n",
    "            parent_node.append(n)\n",
    "    return parent_node\n",
    "\n",
    "# We use theta instead of r in the paper.\n",
    "def compute_ccdf(x, k, theta):\n",
    "    return 1 - gamma.cdf(x, k, scale=theta)\n",
    "\n",
    "I = ['s']\n",
    "def product_ccdf(t, j, k, theta):\n",
    "    v = 1\n",
    "    for par in find_parents(j, G, source=I):\n",
    "        v *= compute_ccdf(t, k[par], theta[par])\n",
    "    return v\n",
    "\n",
    "def integrand_moment(t, j, k, theta, p):\n",
    "    return p * t**(p - 1) * product_ccdf(t, j, k, theta)\n",
    "\n",
    "def compute_moment(j, k, theta, p):\n",
    "    return quad(integrand_moment, 0, np.inf, args=(j, k, theta, p))[0]\n",
    "\n",
    "# Calculate k and r for node a\n",
    "def compute_theta(E, V, lambda_p):\n",
    "    return (E + 1/lambda_p) / (V + 1/lambda_p**2)\n",
    "\n",
    "def compute_k(E, V, lambda_p):\n",
    "    return (E + 1/lambda_p)**2 / (V + 1/lambda_p**2)\n",
    "\n",
    "def compute_expectation(k1, r1, k2, r2):\n",
    "  beta_top = sc.betainc(k2+1, k1, r2/(r1+r2))\n",
    "  beta_down = sc.betainc(k2, k1, r2/(r1+r2))\n",
    "  expectation = (k1+k2) / r1 - k2*(r1+r2) / (r1*r2) * (beta_top / beta_down)\n",
    "  return 1/expectation"
   ]
  },
  {
   "cell_type": "markdown",
   "metadata": {},
   "source": [
    "Considering a simple circle graph with equal weight, we can simply choose any of the nodes as the source node by symmetry."
   ]
  },
  {
   "cell_type": "code",
   "execution_count": 3,
   "metadata": {},
   "outputs": [
    {
     "data": {
      "image/png": "[encoded data removed]",
      "text/plain": [
       "<Figure size 640x480 with 1 Axes>"
      ]
     },
     "metadata": {},
     "output_type": "display_data"
    }
   ],
   "source": [
    "G = nx.Graph()\n",
    "G.add_nodes_from([\"s\", \"a\", \"b\", \"c\", \"d\", \"e\"])\n",
    "G.add_edge(\"s\", \"a\", weight=0.5)\n",
    "G.add_edge(\"s\", \"b\", weight=0.4)\n",
    "G.add_edge(\"a\", \"d\", weight=0.3)\n",
    "G.add_edge(\"b\", \"c\", weight=0.1)\n",
    "G.add_edge(\"c\", \"e\", weight=0.6)\n",
    "\n",
    "def draw_graph(G):\n",
    "    elarge = [(u, v) for (u, v, d) in G.edges(data=True) if d[\"weight\"] > 0.5]\n",
    "    esmall = [(u, v) for (u, v, d) in G.edges(data=True) if d[\"weight\"] <= 0.5]\n",
    "\n",
    "    pos = nx.spring_layout(G, seed=7)  # positions for all nodes - seed for reproducibility\n",
    "\n",
    "    # nodes\n",
    "    nx.draw_networkx_nodes(G, pos, node_size=700)\n",
    "\n",
    "    # edges\n",
    "    nx.draw_networkx_edges(G, pos, edgelist=elarge, width=2)\n",
    "    nx.draw_networkx_edges(\n",
    "        G, pos, edgelist=esmall, width=2, alpha=0.5, edge_color=\"b\", style=\"dashed\"\n",
    "    )\n",
    "\n",
    "    # node labels\n",
    "    nx.draw_networkx_labels(G, pos, font_size=10, font_family=\"sans-serif\")\n",
    "    # edge weight labels\n",
    "    edge_labels = nx.get_edge_attributes(G, \"weight\")\n",
    "    nx.draw_networkx_edge_labels(G, pos, edge_labels)\n",
    "\n",
    "    ax = plt.gca()\n",
    "    ax.margins(0.08)\n",
    "    plt.axis(\"off\")\n",
    "    plt.tight_layout()\n",
    "    plt.show()\n",
    "\n",
    "draw_graph(G)"
   ]
  },
  {
   "cell_type": "code",
   "execution_count": 4,
   "metadata": {},
   "outputs": [
    {
     "name": "stdout",
     "output_type": "stream",
     "text": [
      "The next child node of source ['s'] is a.\n",
      "['s']\n"
     ]
    }
   ],
   "source": [
    "print(f\"The next child node of source {['s']} is {find_next_child(G, ['s'])}.\")\n",
    "print(find_parents('a', G, source=['s']))"
   ]
  },
  {
   "cell_type": "code",
   "execution_count": 5,
   "metadata": {},
   "outputs": [
    {
     "name": "stdout",
     "output_type": "stream",
     "text": [
      "0.6666666666666666 2.6666666666666665\n"
     ]
    }
   ],
   "source": [
    "lambda_sa = G.get_edge_data('s', 'a')['weight']\n",
    "#print(lambda_sa)\n",
    "\n",
    "# Assume k and r are both 1 for node s with expectation and variance are 1.\n",
    "theta_s = 1\n",
    "k_s = 2\n",
    "E_s = k_s/theta_s\n",
    "V_s = k_s/theta_s**2\n",
    "\n",
    "# Calculate k and r for node a\n",
    "def compute_theta(E, V, lambda_p):\n",
    "    return (E + 1/lambda_p) / (V + 1/lambda_p**2)\n",
    "\n",
    "def compute_k(E, V, lambda_p):\n",
    "    return (E + 1/lambda_p)**2 / (V + 1/lambda_p**2)\n",
    "\n",
    "theta_a = compute_theta(E_s, V_s, lambda_sa)\n",
    "k_a = compute_k(E_s, V_s, lambda_sa)\n",
    "\n",
    "print(theta_a, k_a)"
   ]
  },
  {
   "cell_type": "code",
   "execution_count": 6,
   "metadata": {},
   "outputs": [
    {
     "name": "stderr",
     "output_type": "stream",
     "text": [
      "/var/folders/_y/w8g9tj1d7fvg8r86htk1j8c80000gn/T/ipykernel_49566/2828722876.py:67: IntegrationWarning: The integral is probably divergent, or slowly convergent.\n",
      "  return quad(integrand_moment, 0, np.inf, args=(j, k, theta, p))[0]\n"
     ]
    }
   ],
   "source": [
    "j = 'a'\n",
    "k = {'s': k_s}\n",
    "theta = {'s': theta_s}\n",
    "\n",
    "moment_1 = compute_moment('s', k, theta, 1)\n",
    "moment_2 = compute_moment('s', k, theta, 2)"
   ]
  },
  {
   "cell_type": "code",
   "execution_count": 7,
   "metadata": {},
   "outputs": [],
   "source": [
    "lambda_sa_1 = compute_expectation(k_a, theta_a, k_s, theta_s)\n",
    "lambda_sa_2 = float('%.3f'%lambda_sa_1)"
   ]
  },
  {
   "cell_type": "code",
   "execution_count": 8,
   "metadata": {},
   "outputs": [
    {
     "name": "stdout",
     "output_type": "stream",
     "text": [
      "['s', 'a']\n",
      "0.335\n"
     ]
    },
    {
     "data": {
      "image/png": "[encoded data removed]",
      "text/plain": [
       "<Figure size 640x480 with 1 Axes>"
      ]
     },
     "metadata": {},
     "output_type": "display_data"
    }
   ],
   "source": [
    "T = nx.Graph()\n",
    "T.add_edge('a', 's', weight=lambda_sa_2)\n",
    "I.append('a')\n",
    "print(I)\n",
    "\n",
    "print(lambda_sa_2)\n",
    "draw_graph(T)"
   ]
  },
  {
   "cell_type": "code",
   "execution_count": 9,
   "metadata": {},
   "outputs": [
    {
     "name": "stdout",
     "output_type": "stream",
     "text": [
      "next node is b.\n"
     ]
    }
   ],
   "source": [
    "next_node = find_next_child(G, I)\n",
    "print(f\"next node is {next_node}.\")"
   ]
  },
  {
   "cell_type": "code",
   "execution_count": 10,
   "metadata": {},
   "outputs": [
    {
     "name": "stdout",
     "output_type": "stream",
     "text": [
      "2.4545454545454546 0.5454545454545454\n"
     ]
    }
   ],
   "source": [
    "lambda_1 = G.get_edge_data('s', next_node)['weight']\n",
    "#lambda_2 = G.get_edge_data('a', next_node)['weight']\n",
    "\n",
    "# For node s, we now compute the k and r\n",
    "k_bs = compute_k(E_s, V_s, lambda_1)\n",
    "theta_bs = compute_theta(E_s, V_s, lambda_1)\n",
    "print(k_bs, theta_bs)\n",
    "\n",
    "k_1 = {'s': k_s, 'a': k_a, 'b': k_bs}\n",
    "theta_1 = {'s': theta_s, 'a': theta_a, 'b': theta_bs}"
   ]
  },
  {
   "cell_type": "code",
   "execution_count": 11,
   "metadata": {},
   "outputs": [
    {
     "name": "stdout",
     "output_type": "stream",
     "text": [
      "2.4545454545454546 0.5454545454545454\n",
      "1.7777777777808363 4.345679012345531 1.1851851851741628\n"
     ]
    }
   ],
   "source": [
    "E_a = moment_1\n",
    "V_a = moment_2 - moment_1**2\n",
    "\n",
    "k_bs = compute_k(E_s, V_s, lambda_1)\n",
    "theta_bs = compute_theta(E_s, V_s, lambda_1)\n",
    "print(k_bs, theta_bs)\n",
    "#k_ba = compute_k(E_a, V_a, lambda_2)\n",
    "#theta_ba = compute_theta(E_a, V_a, lambda_2)\n",
    "#print(k_ba, theta_ba)\n",
    "\n",
    "moment_1_bs = compute_moment('s', k_1, theta_1, 1)\n",
    "moment_2_bs = compute_moment('s', k_1, theta_1, 2)\n",
    "#moment_1_ba = compute_moment('a', k_1, theta_1, 1)\n",
    "#moment_2_ba = compute_moment('a', k_1, theta_1, 2)\n",
    "\n",
    "print(moment_1_bs, moment_2_bs, moment_2_bs - moment_1_bs**2)\n",
    "#print(moment_1_ba, moment_2_ba, moment_2_ba - moment_1_ba**2)"
   ]
  },
  {
   "cell_type": "code",
   "execution_count": 12,
   "metadata": {},
   "outputs": [
    {
     "name": "stdout",
     "output_type": "stream",
     "text": [
      "0.28763667991243386\n"
     ]
    }
   ],
   "source": [
    "# Node s is the infection parent of node b\n",
    "E_b = moment_1_bs\n",
    "V_b = moment_2_bs - moment_1_bs**2\n",
    "\n",
    "lambda_sb_1 = compute_expectation(k_bs, theta_bs, k_s, theta_s)\n",
    "lambda_sb_2 = float('%.3f'%lambda_sb_1)\n",
    "print(lambda_sb_1)"
   ]
  },
  {
   "cell_type": "code",
   "execution_count": 13,
   "metadata": {},
   "outputs": [
    {
     "data": {
      "image/png": "[encoded data removed]",
      "text/plain": [
       "<Figure size 640x480 with 1 Axes>"
      ]
     },
     "metadata": {},
     "output_type": "display_data"
    }
   ],
   "source": [
    "I.append(next_node)\n",
    "T.add_edge('s', next_node, weight=lambda_sb_2)\n",
    "\n",
    "draw_graph(T)"
   ]
  },
  {
   "cell_type": "code",
   "execution_count": 14,
   "metadata": {},
   "outputs": [
    {
     "name": "stdout",
     "output_type": "stream",
     "text": [
      "d\n"
     ]
    }
   ],
   "source": [
    "##find next node 'd'\n",
    "j = find_next_child(G, I)\n",
    "print(j)\n"
   ]
  },
  {
   "cell_type": "code",
   "execution_count": 15,
   "metadata": {},
   "outputs": [
    {
     "name": "stdout",
     "output_type": "stream",
     "text": [
      "['a']\n"
     ]
    }
   ],
   "source": [
    "#find its candidate parents\n",
    "parent = find_parents('d', G, I)\n",
    "print(parent)"
   ]
  },
  {
   "cell_type": "code",
   "execution_count": 16,
   "metadata": {},
   "outputs": [
    {
     "name": "stdout",
     "output_type": "stream",
     "text": [
      "1.9999999999999996 6.0000000000000036 2.0000000000000053\n"
     ]
    }
   ],
   "source": [
    "lambda_d1 = G.get_edge_data(parent[0], j)['weight']\n",
    "#lambda_d2 = G.get_edge_data('b', j)['weight']\n",
    "\n",
    "k_da = compute_k(E_a, V_a, lambda_d1)   \n",
    "theta_da = compute_theta(E_a, V_a, lambda_d1)\n",
    "k_2 = {'s': k_s, 'a': k_a, 'd': k_da, 'b':k_bs}\n",
    "theta_2 = {'s': theta_s, 'a': theta_a, 'b': theta_bs, 'd': theta_da}\n",
    "\n",
    "moment_1_da = compute_moment('a', k_2, theta_2, 1)\n",
    "moment_2_da = compute_moment('a', k_2, theta_2, 2)\n",
    "\n",
    "print(moment_1_da, moment_2_da, moment_2_da - moment_1_da**2)"
   ]
  },
  {
   "cell_type": "code",
   "execution_count": 17,
   "metadata": {},
   "outputs": [
    {
     "name": "stdout",
     "output_type": "stream",
     "text": [
      "0.2783971288622211\n"
     ]
    }
   ],
   "source": [
    "# Node a is the infection parent of node d\n",
    "E_d = moment_1_da\n",
    "V_d = moment_2_da - moment_1_da**2\n",
    "\n",
    "lambda_da_1 = compute_expectation(k_da, theta_da, k_a, theta_a)\n",
    "lambda_da_2 = float('%.3f'%lambda_da_1)\n",
    "print(lambda_da_1)"
   ]
  },
  {
   "cell_type": "code",
   "execution_count": 18,
   "metadata": {},
   "outputs": [
    {
     "data": {
      "image/png": "[encoded data removed]",
      "text/plain": [
       "<Figure size 640x480 with 1 Axes>"
      ]
     },
     "metadata": {},
     "output_type": "display_data"
    }
   ],
   "source": [
    "I.append(j)\n",
    "T.add_edge('a', j, weight=lambda_da_2)\n",
    "\n",
    "draw_graph(T)"
   ]
  },
  {
   "cell_type": "code",
   "execution_count": 19,
   "metadata": {},
   "outputs": [
    {
     "name": "stdout",
     "output_type": "stream",
     "text": [
      "next node is c.\n"
     ]
    }
   ],
   "source": [
    "next_node = find_next_child(G, I)\n",
    "print(f\"next node is {next_node}.\")"
   ]
  },
  {
   "cell_type": "code",
   "execution_count": 20,
   "metadata": {},
   "outputs": [
    {
     "name": "stdout",
     "output_type": "stream",
     "text": [
      "['b']\n"
     ]
    }
   ],
   "source": [
    "#find its candidate parents\n",
    "parent = find_parents('c', G, I)\n",
    "print(parent)"
   ]
  },
  {
   "cell_type": "code",
   "execution_count": 21,
   "metadata": {},
   "outputs": [
    {
     "name": "stdout",
     "output_type": "stream",
     "text": [
      "1.9999999999999996 6.0000000000000036 2.0000000000000053\n"
     ]
    }
   ],
   "source": [
    "lambda_c1 = G.get_edge_data(parent[0], next_node)['weight']\n",
    "#lambda_d2 = G.get_edge_data('b', j)['weight']\n",
    "\n",
    "k_cb = compute_k(E_b, V_b, lambda_c1)   \n",
    "theta_cb = compute_theta(E_b, V_b, lambda_c1)\n",
    "k_3 = {'s': k_s, 'c': k_cb, 'a': k_a, 'd': k_da, 'b':k_bs}\n",
    "theta_3 = {'s': theta_s, 'c': theta_cb, 'a': theta_a, 'b': theta_bs, 'd': theta_da}\n",
    "\n",
    "moment_1_cb = compute_moment('b', k_3, theta_3, 1)\n",
    "moment_2_cb = compute_moment('b', k_3, theta_3, 2)\n",
    "\n",
    "print(moment_1_cb, moment_2_cb, moment_2_cb - moment_1_cb**2)"
   ]
  },
  {
   "cell_type": "code",
   "execution_count": 22,
   "metadata": {},
   "outputs": [
    {
     "name": "stdout",
     "output_type": "stream",
     "text": [
      "0.0941515382021907\n"
     ]
    }
   ],
   "source": [
    "# Node b is the infection parent of node c\n",
    "E_c = moment_1_cb\n",
    "V_c = moment_2_cb - moment_1_cb**2\n",
    "\n",
    "lambda_cb_1 = compute_expectation(k_cb, theta_cb, k_bs, theta_bs)\n",
    "lambda_cb_2 = float('%.3f'%lambda_cb_1)\n",
    "print(lambda_cb_1)"
   ]
  },
  {
   "cell_type": "code",
   "execution_count": 23,
   "metadata": {},
   "outputs": [
    {
     "data": {
      "image/png": "[encoded data removed]",
      "text/plain": [
       "<Figure size 640x480 with 1 Axes>"
      ]
     },
     "metadata": {},
     "output_type": "display_data"
    }
   ],
   "source": [
    "I.append(next_node)\n",
    "T.add_edge('b', next_node, weight=lambda_cb_2)\n",
    "\n",
    "draw_graph(T)"
   ]
  },
  {
   "cell_type": "code",
   "execution_count": 24,
   "metadata": {},
   "outputs": [
    {
     "name": "stdout",
     "output_type": "stream",
     "text": [
      "next node is e.\n"
     ]
    }
   ],
   "source": [
    "next_node = find_next_child(G, I)\n",
    "print(f\"next node is {next_node}.\")"
   ]
  },
  {
   "cell_type": "code",
   "execution_count": 25,
   "metadata": {},
   "outputs": [
    {
     "name": "stdout",
     "output_type": "stream",
     "text": [
      "['c']\n"
     ]
    }
   ],
   "source": [
    "#find its candidate parents\n",
    "parent = find_parents('e', G, I)\n",
    "print(parent)"
   ]
  },
  {
   "cell_type": "code",
   "execution_count": 26,
   "metadata": {},
   "outputs": [
    {
     "name": "stdout",
     "output_type": "stream",
     "text": [
      "1.3388429752186406 2.5227784987356707 0.7302779864433693\n"
     ]
    }
   ],
   "source": [
    "lambda_e1 = G.get_edge_data(parent[0], next_node)['weight']\n",
    "#lambda_d2 = G.get_edge_data('b', j)['weight']\n",
    "\n",
    "k_ec = compute_k(E_c, V_c, lambda_e1)   \n",
    "theta_ec = compute_theta(E_c, V_c, lambda_e1)\n",
    "k_4 = {'s': k_s, 'c': k_cb, 'a': k_a, 'd': k_da, 'b':k_bs, 'e': k_ec}\n",
    "theta_4 = {'s': theta_s, 'c': theta_cb, 'a': theta_a, 'b': theta_bs, 'd': theta_da, 'e': theta_ec}\n",
    "\n",
    "moment_1_ec = compute_moment('c', k_4, theta_4, 1)\n",
    "moment_2_ec = compute_moment('c', k_4, theta_4, 2)\n",
    "\n",
    "print(moment_1_ec, moment_2_ec, moment_2_ec - moment_1_ec**2)"
   ]
  },
  {
   "cell_type": "code",
   "execution_count": 27,
   "metadata": {},
   "outputs": [
    {
     "name": "stdout",
     "output_type": "stream",
     "text": [
      "0.4162709165533555\n"
     ]
    }
   ],
   "source": [
    "# Node e is the infection parent of node c\n",
    "E_e = moment_1_ec\n",
    "V_e = moment_2_ec - moment_1_ec**2\n",
    "\n",
    "lambda_ec_1 = compute_expectation(k_ec, theta_ec, k_cb, theta_cb)\n",
    "lambda_ec_2 = float('%.3f'%lambda_ec_1)\n",
    "print(lambda_ec_1)"
   ]
  },
  {
   "cell_type": "code",
   "execution_count": 28,
   "metadata": {},
   "outputs": [
    {
     "data": {
      "image/png": "[encoded data removed]",
      "text/plain": [
       "<Figure size 640x480 with 1 Axes>"
      ]
     },
     "metadata": {},
     "output_type": "display_data"
    }
   ],
   "source": [
    "I.append(next_node)\n",
    "T.add_edge('c', next_node, weight=lambda_ec_2)\n",
    "\n",
    "draw_graph(T)"
   ]
  },
  {
   "cell_type": "code",
   "execution_count": null,
   "metadata": {},
   "outputs": [],
   "source": []
  }
 ],
 "metadata": {
  "kernelspec": {
   "display_name": "Python 3 (ipykernel)",
   "language": "python",
   "name": "python3"
  },
  "language_info": {
   "codemirror_mode": {
    "name": "ipython",
    "version": 3
   },
   "file_extension": ".py",
   "mimetype": "text/x-python",
   "name": "python",
   "nbconvert_exporter": "python",
   "pygments_lexer": "ipython3",
   "version": "3.9.13"
  }
 },
 "nbformat": 4,
 "nbformat_minor": 4
}
