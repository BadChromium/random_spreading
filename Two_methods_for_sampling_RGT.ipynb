{
  "nbformat": 4,
  "nbformat_minor": 0,
  "metadata": {
    "colab": {
      "provenance": []
    },
    "kernelspec": {
      "name": "python3",
      "display_name": "Python 3"
    },
    "language_info": {
      "name": "python"
    }
  },
  "cells": [
    {
      "cell_type": "code",
      "execution_count": 176,
      "metadata": {
        "id": "3fHxqK7K0Qni"
      },
      "outputs": [],
      "source": [
        "import itertools\n",
        "import random\n",
        "import networkx as nx\n",
        "import matplotlib.pyplot as plt\n",
        "from collections import defaultdict\n",
        "import numpy as np\n",
        "from collections import Counter\n",
        "import pprint"
      ]
    },
    {
      "cell_type": "markdown",
      "source": [
        "#Method 1"
      ],
      "metadata": {
        "id": "eXDYjDbxGyEm"
      }
    },
    {
      "cell_type": "markdown",
      "source": [
        "In this part, we consider the neighbors of each node as its weight as a susceptible node."
      ],
      "metadata": {
        "id": "ZRD_gt85HLlD"
      }
    },
    {
      "cell_type": "code",
      "source": [
        "import networkx as nx\n",
        "import matplotlib.pyplot as plt\n",
        "\n",
        "# Create an empty tree graph\n",
        "G = nx.Graph()\n",
        "\n",
        "# Add 10 nodes to the graph\n",
        "G.add_nodes_from(range(10))\n",
        "\n",
        "# Connect the nodes in a tree structure\n",
        "G.add_edges_from([(0, 1), (0, 2), (1, 3), (1, 4), (2, 5), (2, 6), (3, 7), (3, 8), (4, 9)])\n",
        "\n",
        "# Set the node colors\n",
        "node_colors = ['blue' if i in [0,1,2,3,4, 6, 8] else 'gray' for i in range(10)]\n",
        "\n",
        "# Draw the graph\n",
        "pos = nx.spring_layout(G)\n",
        "nx.draw_networkx_nodes(G, pos, node_color=node_colors, node_size=800)\n",
        "nx.draw_networkx_labels(G, pos, labels={i: str(i) for i in range(10)}, font_size=12)\n",
        "nx.draw_networkx_edges(G, pos, width=2)\n",
        "plt.axis('off')\n",
        "plt.show()"
      ],
      "metadata": {
        "colab": {
          "base_uri": "https://localhost:8080/",
          "height": 406
        },
        "id": "Awi8Dl6_0ZTz",
        "outputId": "90118a07-d719-47f2-df95-5cab46fc54d2"
      },
      "execution_count": 177,
      "outputs": [
        {
          "output_type": "display_data",
          "data": {
            "text/plain": [
              "<Figure size 640x480 with 1 Axes>"
            ],
            "image/png": "[encoded data removed]"
          },
          "metadata": {}
        }
      ]
    },
    {
      "cell_type": "code",
      "source": [
        "class Node:\n",
        "    def __init__(self, value, children=None):\n",
        "        self.value = value\n",
        "        self.children = [] if children is None else children\n",
        "     "
      ],
      "metadata": {
        "id": "AEnuN4gq0cQj"
      },
      "execution_count": 178,
      "outputs": []
    },
    {
      "cell_type": "code",
      "source": [
        "import random\n",
        "\n",
        "# Initialize infected nodes with the root node\n",
        "root_node = 2\n",
        "infected_nodes = [root_node]\n",
        "infection_sequence = infected_nodes.copy()\n",
        "\n",
        "# Repeat until no more nodes can be infected\n",
        "while True:\n",
        "    # Calculate weights for susceptible neighbors of infected nodes\n",
        "    weights = [0] * len(G.nodes)\n",
        "    for i, node in enumerate(G.nodes):\n",
        "        if node not in infected_nodes and node_colors[node] == 'blue':\n",
        "            for neighbor in G.neighbors(node):\n",
        "              if node_colors[neighbor] == 'blue':\n",
        "                weights[i] = 1 \n",
        "            \n",
        "    # Exclude nodes that have already been infected\n",
        "    weights = [weights[i] if node_colors[i] == 'blue' else 0 for i in range(len(G.nodes))]\n",
        "    print(f\"weights are {weights}.\")\n",
        "    # Normalize weights\n",
        "    total_weight = sum(weights)\n",
        "    \n",
        "    #print(total_weight)\n",
        "    if total_weight == 0:\n",
        "        break\n",
        "    weights = [w/total_weight for w in weights]\n",
        "    print(f\"weights is {weights}\")\n",
        "    # Sample a susceptible node based on its weight\n",
        "    selected_node = random.choices(list(G.nodes), weights=weights)[0]\n",
        "    \n",
        "    # Add the selected node to the list of infected nodes\n",
        "    infected_nodes.append(selected_node)\n",
        "    infection_sequence.append(selected_node)\n",
        "\n",
        "# Return the list of infected nodes\n",
        "print(f\"infection_sequence is {infection_sequence}.\")"
      ],
      "metadata": {
        "colab": {
          "base_uri": "https://localhost:8080/"
        },
        "id": "eDQYbYvu0goh",
        "outputId": "6be7bb3b-61e6-4043-d931-7bee26c907d3"
      },
      "execution_count": 179,
      "outputs": [
        {
          "output_type": "stream",
          "name": "stdout",
          "text": [
            "weights are [1, 1, 0, 1, 1, 0, 1, 0, 1, 0].\n",
            "weights is [0.16666666666666666, 0.16666666666666666, 0.0, 0.16666666666666666, 0.16666666666666666, 0.0, 0.16666666666666666, 0.0, 0.16666666666666666, 0.0]\n",
            "weights are [1, 1, 0, 0, 1, 0, 1, 0, 1, 0].\n",
            "weights is [0.2, 0.2, 0.0, 0.0, 0.2, 0.0, 0.2, 0.0, 0.2, 0.0]\n",
            "weights are [1, 1, 0, 0, 1, 0, 1, 0, 0, 0].\n",
            "weights is [0.25, 0.25, 0.0, 0.0, 0.25, 0.0, 0.25, 0.0, 0.0, 0.0]\n",
            "weights are [1, 0, 0, 0, 1, 0, 1, 0, 0, 0].\n",
            "weights is [0.3333333333333333, 0.0, 0.0, 0.0, 0.3333333333333333, 0.0, 0.3333333333333333, 0.0, 0.0, 0.0]\n",
            "weights are [0, 0, 0, 0, 1, 0, 1, 0, 0, 0].\n",
            "weights is [0.0, 0.0, 0.0, 0.0, 0.5, 0.0, 0.5, 0.0, 0.0, 0.0]\n",
            "weights are [0, 0, 0, 0, 1, 0, 0, 0, 0, 0].\n",
            "weights is [0.0, 0.0, 0.0, 0.0, 1.0, 0.0, 0.0, 0.0, 0.0, 0.0]\n",
            "weights are [0, 0, 0, 0, 0, 0, 0, 0, 0, 0].\n",
            "infection_sequence is [2, 3, 8, 1, 0, 6, 4].\n"
          ]
        }
      ]
    },
    {
      "cell_type": "code",
      "source": [
        "import networkx as nx\n",
        "import matplotlib.pyplot as plt\n",
        "import random\n",
        "\n",
        "def generate_random_tree(n_nodes=10):\n",
        "    # Create an empty tree graph\n",
        "    G = nx.Graph()\n",
        "\n",
        "    # Add nodes to the graph\n",
        "    G.add_nodes_from(range(n_nodes))\n",
        "\n",
        "    # Connect the nodes in a tree structure\n",
        "    edges = [(0, 1), (0, 2), (1, 3), (1, 4), (2, 5), (2, 6), (3, 7), (3, 8), (4, 9)]\n",
        "    G.add_edges_from(edges)\n",
        "\n",
        "    # Set the node colors\n",
        "    node_colors = ['blue' if i in [0,1,2,3,4, 6, 8] else 'gray' for i in range(n_nodes)]\n",
        "\n",
        "    # Return the graph and node colors\n",
        "    return G, node_colors\n",
        "\n",
        "def repeat_infection(n_iterations=1000, n_nodes=10, root_nodes=[0,2]):\n",
        "    sequences = []\n",
        "    for i in range(n_iterations):\n",
        "        # Select a random root node\n",
        "        root_node = random.choice(root_nodes)\n",
        "\n",
        "        # Generate a random tree and node colors\n",
        "        G, node_colors = generate_random_tree(n_nodes)\n",
        "\n",
        "        # Initialize infected nodes with the root node\n",
        "        infected_nodes = [root_node]\n",
        "        infection_sequence = infected_nodes.copy()\n",
        "\n",
        "        # Repeat until no more nodes can be infected\n",
        "        while True:\n",
        "            # Calculate weights for susceptible neighbors of infected nodes\n",
        "            weights = [0] * len(G.nodes)\n",
        "            for i, node in enumerate(G.nodes):\n",
        "                if node not in infected_nodes and node_colors[node] == 'blue':\n",
        "                    weights[i] = sum(1 for neighbor in G.neighbors(node) if neighbor in infected_nodes and node_colors[neighbor] == 'blue')\n",
        "\n",
        "            # Exclude nodes that have already been infected\n",
        "            weights = [weights[i] if i not in infected_nodes else 0 for i in range(len(G.nodes))]\n",
        "\n",
        "            # Normalize weights\n",
        "            total_weight = sum(weights)\n",
        "            if total_weight == 0:\n",
        "                break\n",
        "            weights = [w/total_weight for w in weights]\n",
        "\n",
        "            # Sample a susceptible node based on its weight\n",
        "            selected_node = random.choices(list(G.nodes), weights=weights)[0]\n",
        "\n",
        "            # Add the selected node to the list of infected nodes\n",
        "            infected_nodes.append(selected_node)\n",
        "            infection_sequence.append(selected_node)\n",
        "\n",
        "        # Add the infection sequence to the list of all sequences\n",
        "        sequences.append(infection_sequence)\n",
        "\n",
        "    # Return the list of infection sequences\n",
        "    return sequences\n"
      ],
      "metadata": {
        "id": "Fz7cI_ss5daM"
      },
      "execution_count": 180,
      "outputs": []
    },
    {
      "cell_type": "code",
      "source": [
        "sequences = repeat_infection(n_iterations=1000, n_nodes=10, root_nodes=[0,1,2,3,4, 6, 8])\n"
      ],
      "metadata": {
        "id": "nUojQB0z5gO5"
      },
      "execution_count": 181,
      "outputs": []
    },
    {
      "cell_type": "code",
      "source": [
        "print(sequences[:10])"
      ],
      "metadata": {
        "colab": {
          "base_uri": "https://localhost:8080/"
        },
        "id": "le3_gTy45gVo",
        "outputId": "66550754-1fdf-464a-cb56-51a55d4e978a"
      },
      "execution_count": 182,
      "outputs": [
        {
          "output_type": "stream",
          "name": "stdout",
          "text": [
            "[[0, 1, 3, 2, 4, 6, 8], [0, 2, 1, 4, 6, 3, 8], [4, 1, 3, 0, 8, 2, 6], [4, 1, 0, 3, 8, 2, 6], [1, 4, 0, 3, 8, 2, 6], [3, 1, 8, 0, 4, 2, 6], [6, 2, 0, 1, 4, 3, 8], [1, 3, 8, 0, 4, 2, 6], [8, 3, 1, 4, 0, 2, 6], [1, 0, 4, 2, 6, 3, 8]]\n"
          ]
        }
      ]
    },
    {
      "cell_type": "code",
      "source": [
        "print(len(sequences))"
      ],
      "metadata": {
        "colab": {
          "base_uri": "https://localhost:8080/"
        },
        "id": "S591ouH65khZ",
        "outputId": "76202332-d0b0-455d-a5f4-48329cf1453f"
      },
      "execution_count": 183,
      "outputs": [
        {
          "output_type": "stream",
          "name": "stdout",
          "text": [
            "1000\n"
          ]
        }
      ]
    },
    {
      "cell_type": "code",
      "source": [
        "from collections import Counter\n",
        "\n",
        "# Sort sequences based on their first element\n",
        "sorted_sequences = sorted(sequences, key=lambda seq: seq[0])\n",
        "\n",
        "# Count the frequency of each starting node\n",
        "start_nodes = [seq[0] for seq in sorted_sequences]\n",
        "node_counts = Counter(start_nodes)\n",
        "\n",
        "# Count the frequency of each starting node\n",
        "freq = Counter([seq[0] for seq in sorted_sequences])\n",
        "\n",
        "# Get all possible first elements\n",
        "possible_first_elements = sorted(set(seq[0] for seq in sorted_sequences))\n",
        "\n",
        "# Create a bar chart with xticks for each possible first element\n",
        "plt.bar(freq.keys(), freq.values())\n",
        "plt.xlabel(\"Starting node\")\n",
        "plt.ylabel(\"Frequency\")\n",
        "plt.title(\"Distribution of starting nodes\")\n",
        "plt.xticks(possible_first_elements)\n",
        "\n",
        "plt.show()"
      ],
      "metadata": {
        "colab": {
          "base_uri": "https://localhost:8080/",
          "height": 472
        },
        "id": "RxqsmQ1U5mb_",
        "outputId": "ca801d6a-d7c8-4950-d34c-8b6884302d2c"
      },
      "execution_count": 184,
      "outputs": [
        {
          "output_type": "display_data",
          "data": {
            "text/plain": [
              "<Figure size 640x480 with 1 Axes>"
            ],
            "image/png": "[encoded data removed]"
          },
          "metadata": {}
        }
      ]
    },
    {
      "cell_type": "markdown",
      "source": [
        "## Test on a Bigger Graph"
      ],
      "metadata": {
        "id": "N036RuCuAsZh"
      }
    },
    {
      "cell_type": "code",
      "source": [
        "import networkx as nx\n",
        "import matplotlib.pyplot as plt\n",
        "\n",
        "# Create an empty tree graph\n",
        "G = nx.Graph()\n",
        "\n",
        "# Add 20 nodes to the graph\n",
        "G.add_nodes_from(range(20))\n",
        "\n",
        "# Connect the nodes in a tree structure\n",
        "G.add_edges_from([(0, 1), (0, 2), (1, 3), (1, 4), (2, 5), (2, 6), (3, 7), (3, 8), (4, 9), (1, 10), (6, 11), (4,12), (3, 13), (0, 14), (6,15), (1, 16), (1, 17), (1,18), (6, 19)])\n",
        "\n",
        "# Set the node colors\n",
        "node_colors = ['blue' if i in [0,1,2,3,4, 6, 8, 10, 11, 12, 13, 15, 18] else 'gray' for i in range(20)]\n",
        "\n",
        "# Draw the graph\n",
        "pos = nx.spring_layout(G)\n",
        "nx.draw_networkx_nodes(G, pos, node_color=node_colors, node_size=200)\n",
        "nx.draw_networkx_labels(G, pos, labels={i: str(i) for i in range(20)}, font_size=10)\n",
        "nx.draw_networkx_edges(G, pos, width=2)\n",
        "plt.axis('off')\n",
        "plt.show()"
      ],
      "metadata": {
        "colab": {
          "base_uri": "https://localhost:8080/",
          "height": 406
        },
        "id": "9RB6Jl1wAuJz",
        "outputId": "bc2734c5-e77d-4397-b506-c595efbc1298"
      },
      "execution_count": 185,
      "outputs": [
        {
          "output_type": "display_data",
          "data": {
            "text/plain": [
              "<Figure size 640x480 with 1 Axes>"
            ],
            "image/png": "[encoded data removed]"
          },
          "metadata": {}
        }
      ]
    },
    {
      "cell_type": "code",
      "source": [
        "import networkx as nx\n",
        "import matplotlib.pyplot as plt\n",
        "import random\n",
        "\n",
        "def generate_random_tree(n_nodes=20):\n",
        "    # Create an empty tree graph\n",
        "    G = nx.Graph()\n",
        "\n",
        "    # Add 20 nodes to the graph\n",
        "    G.add_nodes_from(range(20))\n",
        "\n",
        "    # Connect the nodes in a tree structure\n",
        "    G.add_edges_from([(0, 1), (0, 2), (1, 3), (1, 4), (2, 5), (2, 6), (3, 7), (3, 8), (4, 9), (1, 10), (6, 11), (4,12), (3, 13), (0, 14), (6,15), (1, 16), (1, 17), (1,18), (6, 19)])\n",
        "\n",
        "    # Set the node colors\n",
        "    node_colors = ['blue' if i in [0,1,2,3,4, 6, 8, 10, 11, 12, 13, 15, 18] else 'gray' for i in range(20)]\n",
        "    # Return the graph and node colors\n",
        "    return G, node_colors\n",
        "\n",
        "def repeat_infection(n_iterations=1000, n_nodes=20, root_nodes=[0]):\n",
        "    sequences = []\n",
        "    for i in range(n_iterations):\n",
        "        # Select a random root node\n",
        "        root_node = random.choice(root_nodes)\n",
        "\n",
        "        # Generate a random tree and node colors\n",
        "        G, node_colors = generate_random_tree(n_nodes)\n",
        "\n",
        "        # Initialize infected nodes with the root node\n",
        "        infected_nodes = [root_node]\n",
        "        infection_sequence = infected_nodes.copy()\n",
        "\n",
        "        # Repeat until no more nodes can be infected\n",
        "        while True:\n",
        "            # Calculate weights for susceptible neighbors of infected nodes\n",
        "            weights = [0] * len(G.nodes)\n",
        "            for i, node in enumerate(G.nodes):\n",
        "                if node not in infected_nodes and node_colors[node] == 'blue':\n",
        "                    weights[i] = sum(1 for neighbor in G.neighbors(node) if node_colors[neighbor] == 'blue')\n",
        "\n",
        "            # Exclude nodes that have already been infected\n",
        "            weights = [weights[i] if i not in infected_nodes else 0 for i in range(len(G.nodes))]\n",
        "\n",
        "            # Normalize weights\n",
        "            total_weight = sum(weights)\n",
        "            if total_weight == 0:\n",
        "                break\n",
        "            weights = [w/total_weight for w in weights]\n",
        "\n",
        "            # Sample a susceptible node based on its weight\n",
        "            selected_node = random.choices(list(G.nodes), weights=weights)[0]\n",
        "\n",
        "            # Add the selected node to the list of infected nodes\n",
        "            infected_nodes.append(selected_node)\n",
        "            infection_sequence.append(selected_node)\n",
        "\n",
        "        # Add the infection sequence to the list of all sequences\n",
        "        sequences.append(infection_sequence)\n",
        "\n",
        "    # Return the list of infection sequences\n",
        "    return sequences\n"
      ],
      "metadata": {
        "id": "kzruKPkgAwah"
      },
      "execution_count": 186,
      "outputs": []
    },
    {
      "cell_type": "code",
      "source": [
        "sequences = repeat_infection(n_iterations=1500, n_nodes=20, root_nodes=[0,1,2,3,4, 6, 8, 10, 11, 12, 13, 15, 18])\n",
        "print(sequences[:10])"
      ],
      "metadata": {
        "colab": {
          "base_uri": "https://localhost:8080/"
        },
        "id": "oUMfe0ggAyn7",
        "outputId": "04e2676d-e479-48eb-c0be-416f7520891d"
      },
      "execution_count": 187,
      "outputs": [
        {
          "output_type": "stream",
          "name": "stdout",
          "text": [
            "[[4, 6, 15, 1, 3, 10, 0, 18, 13, 8, 11, 2, 12], [11, 1, 0, 4, 6, 12, 3, 2, 18, 13, 10, 8, 15], [13, 4, 1, 3, 18, 6, 0, 2, 11, 12, 8, 15, 10], [15, 2, 6, 12, 4, 18, 1, 3, 8, 10, 0, 11, 13], [2, 3, 4, 11, 6, 1, 12, 13, 18, 0, 8, 15, 10], [10, 6, 2, 1, 18, 0, 12, 3, 13, 15, 8, 11, 4], [1, 3, 18, 12, 2, 13, 0, 4, 10, 6, 8, 15, 11], [3, 12, 1, 11, 15, 0, 2, 18, 6, 10, 4, 8, 13], [4, 3, 13, 1, 8, 12, 18, 6, 10, 15, 0, 2, 11], [18, 10, 12, 3, 1, 4, 0, 2, 15, 8, 6, 13, 11]]\n"
          ]
        }
      ]
    },
    {
      "cell_type": "code",
      "source": [
        "from collections import Counter\n",
        "\n",
        "# Sort sequences based on their first element\n",
        "sorted_sequences = sorted(sequences, key=lambda seq: seq[0])\n",
        "\n",
        "# Count the frequency of each starting node\n",
        "start_nodes = [seq[0] for seq in sorted_sequences]\n",
        "node_counts = Counter(start_nodes)\n",
        "\n",
        "# Count the frequency of each starting node\n",
        "freq = Counter([seq[0] for seq in sorted_sequences])\n",
        "\n",
        "# Get all possible first elements\n",
        "possible_first_elements = sorted(set(seq[0] for seq in sorted_sequences))\n",
        "\n",
        "# Create a bar chart with xticks for each possible first element\n",
        "plt.bar(freq.keys(), freq.values())\n",
        "plt.xlabel(\"Starting node\")\n",
        "plt.ylabel(\"Frequency\")\n",
        "plt.title(\"Distribution of starting nodes\")\n",
        "plt.xticks(possible_first_elements)\n",
        "\n",
        "plt.show()"
      ],
      "metadata": {
        "colab": {
          "base_uri": "https://localhost:8080/",
          "height": 472
        },
        "id": "T9YBRtwVA3vj",
        "outputId": "30072782-42d5-4cbf-9cc7-812590a0df78"
      },
      "execution_count": 188,
      "outputs": [
        {
          "output_type": "display_data",
          "data": {
            "text/plain": [
              "<Figure size 640x480 with 1 Axes>"
            ],
            "image/png": "[encoded data removed]"
          },
          "metadata": {}
        }
      ]
    },
    {
      "cell_type": "code",
      "source": [],
      "metadata": {
        "id": "9LbRiX4R1Yq6"
      },
      "execution_count": 188,
      "outputs": []
    },
    {
      "cell_type": "markdown",
      "source": [
        "# Method 2"
      ],
      "metadata": {
        "id": "VvsuV0DYHAU1"
      }
    },
    {
      "cell_type": "code",
      "source": [
        "class Node:\n",
        "    def __init__(self, value, children=None):\n",
        "        self.value = value\n",
        "        self.children = [] if children is None else children\n",
        "        \n",
        "def generate_random_spreading_tree(infected_nodes):\n",
        "    # Select a random root node from the infected nodes\n",
        "    root = random.choice(infected_nodes)\n",
        "\n",
        "    nodes = [root]\n",
        "    s_k = [root]\n",
        "    #print(f\"root is {root}\")\n",
        "    #print(f\"nodes are {nodes}\")\n",
        "\n",
        "    # Generate the tree\n",
        "    while len(nodes) < len(infected_nodes):\n",
        "        candidate_parents = []\n",
        "        for node in nodes:\n",
        "          #node_neighbors = list(G.neighbors(node))\n",
        "          for c in G.neighbors(node):\n",
        "            if c in infected_nodes and c not in nodes:\n",
        "              candidate_parents.append(c) \n",
        "        parent = random.choice(candidate_parents) # Select a random parent node\n",
        "        #print(f\"parent is {parent}\")\n",
        "        nodes.append(parent)\n",
        "        s_k.append(parent)\n",
        "\n",
        "        #children = [c for c in G.neighbors(parent) if c in infected_nodes and c not in nodes] # Select the children that are infected and haven't been added yet\n",
        "        #print(f\"children are {children}\")\n",
        "        #if len(children) > 0:\n",
        "          #child = random.choice(children) # Select a random child\n",
        "          #parent.children.append(child) # Add the child to the parent's children list\n",
        "          #nodes.append(parent)\n",
        "          #nodes.append(child) # Add the child to the list of nodes\n",
        "    # Create the graph\n",
        "    return s_k\n",
        "\n",
        "\n",
        "# Define the original graph\n",
        "G = nx.Graph()\n",
        "G.add_nodes_from(range(10))\n",
        "G.add_edges_from([(0, 1), (0, 2), (1, 3), (1, 4), (2, 5), (2, 6), (3, 7), (3, 8), (4, 9)])\n",
        "\n",
        "# Define the infected nodes\n",
        "infected_nodes = [0, 1, 2, 3, 4, 6, 8]\n",
        "\n",
        "# Generate the spreading tree\n",
        "s_k = generate_random_spreading_tree(infected_nodes)\n",
        "print(s_k)\n",
        "# Set the node colors\n",
        "node_colors = ['blue' if i in infected_nodes else 'gray' for i in range(10)]\n",
        "\n",
        "# Draw the graph\n",
        "pos = nx.spring_layout(G)\n",
        "nx.draw_networkx_nodes(G, pos, node_color=node_colors, node_size=300)\n",
        "nx.draw_networkx_labels(G, pos, labels={i: str(i) for i in range(10)}, font_size=12)\n",
        "nx.draw_networkx_edges(G, pos, width=2)\n",
        "nx.draw_networkx_edges(tree, pos, edgelist=edges, width=2, edge_color='red')\n",
        "plt.axis('off')\n",
        "plt.show()\n"
      ],
      "metadata": {
        "colab": {
          "base_uri": "https://localhost:8080/",
          "height": 423
        },
        "id": "lYExCCHI6QaB",
        "outputId": "aec542d5-9b14-459d-a0f4-4b331504fc94"
      },
      "execution_count": 189,
      "outputs": [
        {
          "output_type": "stream",
          "name": "stdout",
          "text": [
            "[0, 1, 2, 4, 3, 6, 8]\n"
          ]
        },
        {
          "output_type": "display_data",
          "data": {
            "text/plain": [
              "<Figure size 640x480 with 1 Axes>"
            ],
            "image/png": "[encoded data removed]"
          },
          "metadata": {}
        }
      ]
    },
    {
      "cell_type": "code",
      "source": [
        "## repeat the growing process 10000 times\n",
        "# use Monte Carlo method to sample the edges or permutations by 10000 samples\n",
        "def permutations_count(infected_nodes, iterations):\n",
        "    trees = []\n",
        "    permutations = []\n",
        "    counts = defaultdict(int)\n",
        "    for i in range(iterations):\n",
        "        s_k = generate_random_spreading_tree(infected_nodes)\n",
        "        permutations.append(s_k)\n",
        "        #counts[tuple(sorted(edges))] += 1\n",
        "    return permutations#, counts"
      ],
      "metadata": {
        "id": "dlTe1Bq0EExB"
      },
      "execution_count": 190,
      "outputs": []
    },
    {
      "cell_type": "code",
      "source": [
        "infected_nodes = [0, 1, 2, 3, 4, 6, 8]\n",
        "permutations = permutations_count(infected_nodes, iterations = 1000)\n",
        "print(permutations[:10])\n",
        "#print(len(s_k))\n",
        "#print(counts)"
      ],
      "metadata": {
        "colab": {
          "base_uri": "https://localhost:8080/"
        },
        "id": "D2a8hJLcEE2Q",
        "outputId": "379228a2-1a60-4ed3-8cc9-51face4ecacd"
      },
      "execution_count": 191,
      "outputs": [
        {
          "output_type": "stream",
          "name": "stdout",
          "text": [
            "[[1, 4, 0, 3, 2, 6, 8], [8, 3, 1, 4, 0, 2, 6], [1, 3, 0, 2, 6, 4, 8], [4, 1, 3, 8, 0, 2, 6], [2, 6, 0, 1, 3, 8, 4], [4, 1, 0, 3, 8, 2, 6], [8, 3, 1, 4, 0, 2, 6], [1, 0, 3, 4, 8, 2, 6], [8, 3, 1, 0, 4, 2, 6], [8, 3, 1, 0, 2, 4, 6]]\n"
          ]
        }
      ]
    },
    {
      "cell_type": "code",
      "source": [
        "# Convert the list of edges into a tuple of tuples\n",
        "permutations_tuples = tuple(map(tuple, permutations))\n",
        "\n",
        "# Count the frequency of each sublist\n",
        "permutations_counter = Counter(permutations_tuples)\n",
        "\n",
        "# Print the frequency of each sublist\n",
        "for sublist, count in permutations_counter.items():\n",
        "    print(sublist, count)\n"
      ],
      "metadata": {
        "colab": {
          "base_uri": "https://localhost:8080/"
        },
        "id": "hqKuyuq6EE4w",
        "outputId": "10f73681-13a0-4c9b-cbf0-a55c6e87648e"
      },
      "execution_count": 192,
      "outputs": [
        {
          "output_type": "stream",
          "name": "stdout",
          "text": [
            "(1, 4, 0, 3, 2, 6, 8) 2\n",
            "(8, 3, 1, 4, 0, 2, 6) 75\n",
            "(1, 3, 0, 2, 6, 4, 8) 2\n",
            "(4, 1, 3, 8, 0, 2, 6) 45\n",
            "(2, 6, 0, 1, 3, 8, 4) 14\n",
            "(4, 1, 0, 3, 8, 2, 6) 18\n",
            "(1, 0, 3, 4, 8, 2, 6) 3\n",
            "(8, 3, 1, 0, 4, 2, 6) 29\n",
            "(8, 3, 1, 0, 2, 4, 6) 23\n",
            "(6, 2, 0, 1, 3, 8, 4) 23\n",
            "(1, 4, 3, 0, 8, 2, 6) 7\n",
            "(1, 4, 0, 2, 3, 8, 6) 3\n",
            "(2, 6, 0, 1, 3, 4, 8) 23\n",
            "(6, 2, 0, 1, 4, 3, 8) 60\n",
            "(1, 4, 0, 2, 6, 3, 8) 4\n",
            "(1, 4, 3, 8, 0, 2, 6) 12\n",
            "(3, 1, 8, 4, 0, 2, 6) 9\n",
            "(1, 3, 0, 8, 4, 2, 6) 3\n",
            "(3, 8, 1, 0, 2, 6, 4) 9\n",
            "(0, 1, 4, 2, 6, 3, 8) 11\n",
            "(1, 3, 8, 0, 4, 2, 6) 6\n",
            "(1, 0, 2, 3, 8, 4, 6) 1\n",
            "(1, 3, 4, 0, 2, 6, 8) 2\n",
            "(1, 4, 0, 3, 2, 8, 6) 5\n",
            "(4, 1, 3, 0, 8, 2, 6) 17\n",
            "(2, 6, 0, 1, 4, 3, 8) 34\n",
            "(3, 8, 1, 4, 0, 2, 6) 36\n",
            "(3, 8, 1, 0, 4, 2, 6) 17\n",
            "(4, 1, 0, 2, 3, 6, 8) 6\n",
            "(3, 1, 0, 8, 4, 2, 6) 5\n",
            "(2, 0, 6, 1, 3, 4, 8) 12\n",
            "(1, 3, 0, 4, 8, 2, 6) 4\n",
            "(4, 1, 0, 3, 2, 8, 6) 16\n",
            "(0, 2, 1, 6, 3, 4, 8) 4\n",
            "(6, 2, 0, 1, 3, 4, 8) 32\n",
            "(2, 0, 1, 6, 4, 3, 8) 6\n",
            "(3, 1, 8, 0, 2, 6, 4) 1\n",
            "(0, 2, 1, 4, 6, 3, 8) 8\n",
            "(3, 1, 0, 4, 8, 2, 6) 3\n",
            "(4, 1, 0, 3, 2, 6, 8) 12\n",
            "(0, 1, 3, 8, 4, 2, 6) 7\n",
            "(2, 0, 6, 1, 3, 8, 4) 9\n",
            "(0, 1, 4, 3, 8, 2, 6) 4\n",
            "(0, 1, 2, 6, 3, 8, 4) 4\n",
            "(3, 1, 8, 0, 4, 2, 6) 5\n",
            "(2, 0, 1, 3, 6, 4, 8) 3\n",
            "(3, 1, 4, 0, 8, 2, 6) 5\n",
            "(1, 0, 4, 3, 2, 6, 8) 6\n",
            "(0, 2, 6, 1, 4, 3, 8) 18\n",
            "(0, 1, 3, 2, 8, 4, 6) 3\n",
            "(0, 1, 2, 6, 4, 3, 8) 3\n",
            "(0, 2, 1, 3, 6, 8, 4) 3\n",
            "(4, 1, 0, 2, 6, 3, 8) 16\n",
            "(0, 2, 6, 1, 3, 8, 4) 9\n",
            "(2, 0, 1, 3, 8, 6, 4) 3\n",
            "(1, 0, 4, 2, 3, 8, 6) 1\n",
            "(1, 3, 4, 8, 0, 2, 6) 4\n",
            "(1, 0, 2, 3, 6, 4, 8) 1\n",
            "(4, 1, 3, 0, 2, 6, 8) 10\n",
            "(2, 0, 1, 6, 3, 8, 4) 3\n",
            "(8, 3, 1, 0, 2, 6, 4) 20\n",
            "(3, 1, 0, 8, 2, 4, 6) 5\n",
            "(0, 1, 3, 4, 2, 8, 6) 5\n",
            "(0, 2, 1, 3, 8, 4, 6) 4\n",
            "(0, 2, 1, 3, 4, 6, 8) 1\n",
            "(3, 8, 1, 0, 2, 4, 6) 10\n",
            "(1, 3, 8, 4, 0, 2, 6) 12\n",
            "(2, 0, 6, 1, 4, 3, 8) 17\n",
            "(3, 1, 0, 4, 2, 8, 6) 2\n",
            "(4, 1, 3, 0, 2, 8, 6) 7\n",
            "(1, 3, 8, 0, 2, 4, 6) 2\n",
            "(0, 2, 1, 6, 3, 8, 4) 3\n",
            "(3, 1, 4, 8, 0, 2, 6) 10\n",
            "(1, 3, 0, 4, 2, 6, 8) 2\n",
            "(0, 1, 3, 4, 2, 6, 8) 1\n",
            "(4, 1, 0, 2, 3, 8, 6) 11\n",
            "(1, 3, 0, 4, 2, 8, 6) 2\n",
            "(0, 1, 3, 2, 6, 4, 8) 2\n",
            "(0, 1, 3, 4, 8, 2, 6) 3\n",
            "(3, 1, 4, 0, 2, 8, 6) 5\n",
            "(0, 1, 2, 6, 3, 4, 8) 2\n",
            "(1, 4, 3, 0, 2, 6, 8) 1\n",
            "(3, 1, 0, 2, 4, 6, 8) 2\n",
            "(2, 0, 1, 3, 8, 4, 6) 4\n",
            "(1, 0, 3, 8, 4, 2, 6) 1\n",
            "(1, 0, 4, 2, 3, 6, 8) 4\n",
            "(1, 0, 3, 8, 2, 6, 4) 2\n",
            "(0, 2, 1, 6, 4, 3, 8) 6\n",
            "(1, 0, 2, 6, 3, 8, 4) 2\n",
            "(2, 0, 1, 4, 3, 6, 8) 2\n",
            "(1, 0, 4, 2, 6, 3, 8) 3\n",
            "(2, 0, 1, 3, 4, 6, 8) 2\n",
            "(0, 2, 1, 3, 6, 4, 8) 3\n",
            "(2, 0, 1, 4, 3, 8, 6) 6\n",
            "(1, 0, 2, 4, 3, 8, 6) 1\n",
            "(0, 1, 4, 2, 3, 6, 8) 4\n",
            "(0, 1, 4, 2, 3, 8, 6) 4\n",
            "(0, 1, 2, 4, 3, 8, 6) 2\n",
            "(1, 0, 4, 3, 8, 2, 6) 3\n",
            "(1, 3, 0, 2, 4, 8, 6) 1\n",
            "(0, 1, 2, 4, 6, 3, 8) 1\n",
            "(0, 1, 2, 3, 8, 4, 6) 5\n",
            "(0, 1, 3, 2, 4, 8, 6) 3\n",
            "(0, 1, 2, 3, 6, 8, 4) 1\n",
            "(0, 2, 1, 3, 4, 8, 6) 3\n",
            "(1, 0, 2, 3, 8, 6, 4) 3\n",
            "(1, 0, 2, 3, 6, 8, 4) 1\n",
            "(0, 2, 6, 1, 3, 4, 8) 13\n",
            "(3, 1, 4, 0, 2, 6, 8) 4\n",
            "(0, 1, 2, 3, 6, 4, 8) 2\n",
            "(1, 0, 3, 2, 8, 4, 6) 1\n",
            "(0, 1, 2, 3, 8, 6, 4) 3\n",
            "(1, 4, 0, 3, 8, 2, 6) 1\n",
            "(1, 4, 3, 0, 2, 8, 6) 2\n",
            "(3, 1, 0, 2, 6, 4, 8) 4\n",
            "(0, 1, 3, 8, 2, 4, 6) 2\n",
            "(1, 3, 0, 8, 2, 6, 4) 1\n",
            "(3, 1, 0, 2, 8, 4, 6) 1\n",
            "(1, 0, 2, 6, 4, 3, 8) 3\n",
            "(0, 1, 2, 3, 4, 8, 6) 2\n",
            "(0, 1, 3, 2, 4, 6, 8) 2\n",
            "(0, 1, 3, 2, 8, 6, 4) 1\n",
            "(3, 1, 0, 8, 2, 6, 4) 3\n",
            "(0, 1, 3, 2, 6, 8, 4) 3\n",
            "(3, 1, 0, 4, 2, 6, 8) 4\n",
            "(1, 0, 3, 8, 2, 4, 6) 1\n",
            "(2, 0, 1, 4, 6, 3, 8) 3\n",
            "(1, 4, 0, 2, 3, 6, 8) 2\n",
            "(3, 1, 8, 0, 2, 4, 6) 1\n",
            "(1, 0, 3, 2, 8, 6, 4) 1\n",
            "(2, 0, 1, 3, 6, 8, 4) 2\n",
            "(1, 0, 2, 4, 6, 3, 8) 2\n",
            "(1, 3, 4, 0, 8, 2, 6) 1\n",
            "(1, 3, 0, 8, 2, 4, 6) 1\n",
            "(1, 3, 4, 0, 2, 8, 6) 1\n",
            "(3, 1, 0, 2, 4, 8, 6) 2\n",
            "(2, 0, 1, 3, 4, 8, 6) 2\n",
            "(0, 1, 4, 3, 2, 8, 6) 4\n",
            "(0, 2, 1, 4, 3, 8, 6) 1\n",
            "(0, 1, 3, 8, 2, 6, 4) 2\n",
            "(0, 1, 2, 4, 3, 6, 8) 1\n",
            "(3, 1, 0, 2, 6, 8, 4) 2\n",
            "(0, 1, 4, 3, 2, 6, 8) 2\n",
            "(1, 0, 3, 2, 4, 8, 6) 1\n",
            "(2, 0, 1, 6, 3, 4, 8) 1\n"
          ]
        }
      ]
    },
    {
      "cell_type": "code",
      "source": [
        "permutations_counter.most_common()"
      ],
      "metadata": {
        "colab": {
          "base_uri": "https://localhost:8080/"
        },
        "id": "HUvjA0EbEE7I",
        "outputId": "af0d3ec0-f69f-49cc-bf3f-21af0c634b54"
      },
      "execution_count": 193,
      "outputs": [
        {
          "output_type": "execute_result",
          "data": {
            "text/plain": [
              "[((8, 3, 1, 4, 0, 2, 6), 75),\n",
              " ((6, 2, 0, 1, 4, 3, 8), 60),\n",
              " ((4, 1, 3, 8, 0, 2, 6), 45),\n",
              " ((3, 8, 1, 4, 0, 2, 6), 36),\n",
              " ((2, 6, 0, 1, 4, 3, 8), 34),\n",
              " ((6, 2, 0, 1, 3, 4, 8), 32),\n",
              " ((8, 3, 1, 0, 4, 2, 6), 29),\n",
              " ((8, 3, 1, 0, 2, 4, 6), 23),\n",
              " ((6, 2, 0, 1, 3, 8, 4), 23),\n",
              " ((2, 6, 0, 1, 3, 4, 8), 23),\n",
              " ((8, 3, 1, 0, 2, 6, 4), 20),\n",
              " ((4, 1, 0, 3, 8, 2, 6), 18),\n",
              " ((0, 2, 6, 1, 4, 3, 8), 18),\n",
              " ((4, 1, 3, 0, 8, 2, 6), 17),\n",
              " ((3, 8, 1, 0, 4, 2, 6), 17),\n",
              " ((2, 0, 6, 1, 4, 3, 8), 17),\n",
              " ((4, 1, 0, 3, 2, 8, 6), 16),\n",
              " ((4, 1, 0, 2, 6, 3, 8), 16),\n",
              " ((2, 6, 0, 1, 3, 8, 4), 14),\n",
              " ((0, 2, 6, 1, 3, 4, 8), 13),\n",
              " ((1, 4, 3, 8, 0, 2, 6), 12),\n",
              " ((2, 0, 6, 1, 3, 4, 8), 12),\n",
              " ((4, 1, 0, 3, 2, 6, 8), 12),\n",
              " ((1, 3, 8, 4, 0, 2, 6), 12),\n",
              " ((0, 1, 4, 2, 6, 3, 8), 11),\n",
              " ((4, 1, 0, 2, 3, 8, 6), 11),\n",
              " ((4, 1, 3, 0, 2, 6, 8), 10),\n",
              " ((3, 8, 1, 0, 2, 4, 6), 10),\n",
              " ((3, 1, 4, 8, 0, 2, 6), 10),\n",
              " ((3, 1, 8, 4, 0, 2, 6), 9),\n",
              " ((3, 8, 1, 0, 2, 6, 4), 9),\n",
              " ((2, 0, 6, 1, 3, 8, 4), 9),\n",
              " ((0, 2, 6, 1, 3, 8, 4), 9),\n",
              " ((0, 2, 1, 4, 6, 3, 8), 8),\n",
              " ((1, 4, 3, 0, 8, 2, 6), 7),\n",
              " ((0, 1, 3, 8, 4, 2, 6), 7),\n",
              " ((4, 1, 3, 0, 2, 8, 6), 7),\n",
              " ((1, 3, 8, 0, 4, 2, 6), 6),\n",
              " ((4, 1, 0, 2, 3, 6, 8), 6),\n",
              " ((2, 0, 1, 6, 4, 3, 8), 6),\n",
              " ((1, 0, 4, 3, 2, 6, 8), 6),\n",
              " ((0, 2, 1, 6, 4, 3, 8), 6),\n",
              " ((2, 0, 1, 4, 3, 8, 6), 6),\n",
              " ((1, 4, 0, 3, 2, 8, 6), 5),\n",
              " ((3, 1, 0, 8, 4, 2, 6), 5),\n",
              " ((3, 1, 8, 0, 4, 2, 6), 5),\n",
              " ((3, 1, 4, 0, 8, 2, 6), 5),\n",
              " ((3, 1, 0, 8, 2, 4, 6), 5),\n",
              " ((0, 1, 3, 4, 2, 8, 6), 5),\n",
              " ((3, 1, 4, 0, 2, 8, 6), 5),\n",
              " ((0, 1, 2, 3, 8, 4, 6), 5),\n",
              " ((1, 4, 0, 2, 6, 3, 8), 4),\n",
              " ((1, 3, 0, 4, 8, 2, 6), 4),\n",
              " ((0, 2, 1, 6, 3, 4, 8), 4),\n",
              " ((0, 1, 4, 3, 8, 2, 6), 4),\n",
              " ((0, 1, 2, 6, 3, 8, 4), 4),\n",
              " ((1, 3, 4, 8, 0, 2, 6), 4),\n",
              " ((0, 2, 1, 3, 8, 4, 6), 4),\n",
              " ((2, 0, 1, 3, 8, 4, 6), 4),\n",
              " ((1, 0, 4, 2, 3, 6, 8), 4),\n",
              " ((0, 1, 4, 2, 3, 6, 8), 4),\n",
              " ((0, 1, 4, 2, 3, 8, 6), 4),\n",
              " ((3, 1, 4, 0, 2, 6, 8), 4),\n",
              " ((3, 1, 0, 2, 6, 4, 8), 4),\n",
              " ((3, 1, 0, 4, 2, 6, 8), 4),\n",
              " ((0, 1, 4, 3, 2, 8, 6), 4),\n",
              " ((1, 0, 3, 4, 8, 2, 6), 3),\n",
              " ((1, 4, 0, 2, 3, 8, 6), 3),\n",
              " ((1, 3, 0, 8, 4, 2, 6), 3),\n",
              " ((3, 1, 0, 4, 8, 2, 6), 3),\n",
              " ((2, 0, 1, 3, 6, 4, 8), 3),\n",
              " ((0, 1, 3, 2, 8, 4, 6), 3),\n",
              " ((0, 1, 2, 6, 4, 3, 8), 3),\n",
              " ((0, 2, 1, 3, 6, 8, 4), 3),\n",
              " ((2, 0, 1, 3, 8, 6, 4), 3),\n",
              " ((2, 0, 1, 6, 3, 8, 4), 3),\n",
              " ((0, 2, 1, 6, 3, 8, 4), 3),\n",
              " ((0, 1, 3, 4, 8, 2, 6), 3),\n",
              " ((1, 0, 4, 2, 6, 3, 8), 3),\n",
              " ((0, 2, 1, 3, 6, 4, 8), 3),\n",
              " ((1, 0, 4, 3, 8, 2, 6), 3),\n",
              " ((0, 1, 3, 2, 4, 8, 6), 3),\n",
              " ((0, 2, 1, 3, 4, 8, 6), 3),\n",
              " ((1, 0, 2, 3, 8, 6, 4), 3),\n",
              " ((0, 1, 2, 3, 8, 6, 4), 3),\n",
              " ((1, 0, 2, 6, 4, 3, 8), 3),\n",
              " ((3, 1, 0, 8, 2, 6, 4), 3),\n",
              " ((0, 1, 3, 2, 6, 8, 4), 3),\n",
              " ((2, 0, 1, 4, 6, 3, 8), 3),\n",
              " ((1, 4, 0, 3, 2, 6, 8), 2),\n",
              " ((1, 3, 0, 2, 6, 4, 8), 2),\n",
              " ((1, 3, 4, 0, 2, 6, 8), 2),\n",
              " ((3, 1, 0, 4, 2, 8, 6), 2),\n",
              " ((1, 3, 8, 0, 2, 4, 6), 2),\n",
              " ((1, 3, 0, 4, 2, 6, 8), 2),\n",
              " ((1, 3, 0, 4, 2, 8, 6), 2),\n",
              " ((0, 1, 3, 2, 6, 4, 8), 2),\n",
              " ((0, 1, 2, 6, 3, 4, 8), 2),\n",
              " ((3, 1, 0, 2, 4, 6, 8), 2),\n",
              " ((1, 0, 3, 8, 2, 6, 4), 2),\n",
              " ((1, 0, 2, 6, 3, 8, 4), 2),\n",
              " ((2, 0, 1, 4, 3, 6, 8), 2),\n",
              " ((2, 0, 1, 3, 4, 6, 8), 2),\n",
              " ((0, 1, 2, 4, 3, 8, 6), 2),\n",
              " ((0, 1, 2, 3, 6, 4, 8), 2),\n",
              " ((1, 4, 3, 0, 2, 8, 6), 2),\n",
              " ((0, 1, 3, 8, 2, 4, 6), 2),\n",
              " ((0, 1, 2, 3, 4, 8, 6), 2),\n",
              " ((0, 1, 3, 2, 4, 6, 8), 2),\n",
              " ((1, 4, 0, 2, 3, 6, 8), 2),\n",
              " ((2, 0, 1, 3, 6, 8, 4), 2),\n",
              " ((1, 0, 2, 4, 6, 3, 8), 2),\n",
              " ((3, 1, 0, 2, 4, 8, 6), 2),\n",
              " ((2, 0, 1, 3, 4, 8, 6), 2),\n",
              " ((0, 1, 3, 8, 2, 6, 4), 2),\n",
              " ((3, 1, 0, 2, 6, 8, 4), 2),\n",
              " ((0, 1, 4, 3, 2, 6, 8), 2),\n",
              " ((1, 0, 2, 3, 8, 4, 6), 1),\n",
              " ((3, 1, 8, 0, 2, 6, 4), 1),\n",
              " ((1, 0, 4, 2, 3, 8, 6), 1),\n",
              " ((1, 0, 2, 3, 6, 4, 8), 1),\n",
              " ((0, 2, 1, 3, 4, 6, 8), 1),\n",
              " ((0, 1, 3, 4, 2, 6, 8), 1),\n",
              " ((1, 4, 3, 0, 2, 6, 8), 1),\n",
              " ((1, 0, 3, 8, 4, 2, 6), 1),\n",
              " ((1, 0, 2, 4, 3, 8, 6), 1),\n",
              " ((1, 3, 0, 2, 4, 8, 6), 1),\n",
              " ((0, 1, 2, 4, 6, 3, 8), 1),\n",
              " ((0, 1, 2, 3, 6, 8, 4), 1),\n",
              " ((1, 0, 2, 3, 6, 8, 4), 1),\n",
              " ((1, 0, 3, 2, 8, 4, 6), 1),\n",
              " ((1, 4, 0, 3, 8, 2, 6), 1),\n",
              " ((1, 3, 0, 8, 2, 6, 4), 1),\n",
              " ((3, 1, 0, 2, 8, 4, 6), 1),\n",
              " ((0, 1, 3, 2, 8, 6, 4), 1),\n",
              " ((1, 0, 3, 8, 2, 4, 6), 1),\n",
              " ((3, 1, 8, 0, 2, 4, 6), 1),\n",
              " ((1, 0, 3, 2, 8, 6, 4), 1),\n",
              " ((1, 3, 4, 0, 8, 2, 6), 1),\n",
              " ((1, 3, 0, 8, 2, 4, 6), 1),\n",
              " ((1, 3, 4, 0, 2, 8, 6), 1),\n",
              " ((0, 2, 1, 4, 3, 8, 6), 1),\n",
              " ((0, 1, 2, 4, 3, 6, 8), 1),\n",
              " ((1, 0, 3, 2, 4, 8, 6), 1),\n",
              " ((2, 0, 1, 6, 3, 4, 8), 1)]"
            ]
          },
          "metadata": {},
          "execution_count": 193
        }
      ]
    },
    {
      "cell_type": "code",
      "source": [],
      "metadata": {
        "id": "hQC1q4QSFudG"
      },
      "execution_count": 193,
      "outputs": []
    },
    {
      "cell_type": "markdown",
      "source": [
        "## New Tree"
      ],
      "metadata": {
        "id": "4eQ0OkOuF7hz"
      }
    },
    {
      "cell_type": "code",
      "source": [
        "import networkx as nx\n",
        "import matplotlib.pyplot as plt\n",
        "\n",
        "# Create an empty tree graph\n",
        "G = nx.Graph()\n",
        "\n",
        "# Add 20 nodes to the graph\n",
        "G.add_nodes_from(range(20))\n",
        "\n",
        "# Connect the nodes in a tree structure\n",
        "G.add_edges_from([(0, 1), (0, 2), (1, 3), (1, 4), (2, 5), (2, 6), (3, 7), (3, 8), (4, 9), (1, 10), (6, 11), (4,12), (3, 13), (0, 14), (6,15), (1, 16), (1, 17), (1,18), (6, 19)])\n",
        "\n",
        "# Set the node colors\n",
        "node_colors = ['blue' if i in [0,1,2,3,4, 6, 8, 10, 11, 12, 13, 15, 18] else 'gray' for i in range(20)]\n",
        "\n",
        "# Draw the graph\n",
        "pos = nx.spring_layout(G)\n",
        "nx.draw_networkx_nodes(G, pos, node_color=node_colors, node_size=200)\n",
        "nx.draw_networkx_labels(G, pos, labels={i: str(i) for i in range(20)}, font_size=10)\n",
        "nx.draw_networkx_edges(G, pos, width=2)\n",
        "plt.axis('off')\n",
        "plt.show()"
      ],
      "metadata": {
        "colab": {
          "base_uri": "https://localhost:8080/",
          "height": 406
        },
        "id": "kskRvJnoFugV",
        "outputId": "f9a0c5c5-61c1-40b7-eadf-746f409c7f55"
      },
      "execution_count": 194,
      "outputs": [
        {
          "output_type": "display_data",
          "data": {
            "text/plain": [
              "<Figure size 640x480 with 1 Axes>"
            ],
            "image/png": "[encoded data removed]"
          },
          "metadata": {}
        }
      ]
    },
    {
      "cell_type": "code",
      "source": [
        "## repeat the growing process 10000 times\n",
        "# use Monte Carlo method to sample the edges or permutations by 10000 samples\n",
        "def permutations_count(infected_nodes, iterations):\n",
        "    trees = []\n",
        "    permutations = []\n",
        "    counts = defaultdict(int)\n",
        "    for i in range(iterations):\n",
        "        s_k = generate_random_spreading_tree(infected_nodes)\n",
        "        permutations.append(s_k)\n",
        "        #counts[tuple(sorted(edges))] += 1\n",
        "    return permutations#, counts"
      ],
      "metadata": {
        "id": "qz9iIWAaFui1"
      },
      "execution_count": 195,
      "outputs": []
    },
    {
      "cell_type": "code",
      "source": [
        "infected_nodes = [0, 1, 2, 3, 4, 6, 8]\n",
        "permutations = permutations_count(infected_nodes, iterations = 1000)\n",
        "print(permutations[:10])\n",
        "#print(len(s_k))\n",
        "#print(counts)"
      ],
      "metadata": {
        "colab": {
          "base_uri": "https://localhost:8080/"
        },
        "id": "QnetEtAZFulV",
        "outputId": "7cb59386-aa97-460a-f464-04cfdc29743b"
      },
      "execution_count": 196,
      "outputs": [
        {
          "output_type": "stream",
          "name": "stdout",
          "text": [
            "[[8, 3, 1, 0, 4, 2, 6], [6, 2, 0, 1, 3, 8, 4], [2, 0, 1, 4, 3, 6, 8], [1, 4, 0, 2, 3, 6, 8], [6, 2, 0, 1, 3, 8, 4], [3, 1, 8, 0, 4, 2, 6], [4, 1, 0, 2, 3, 8, 6], [8, 3, 1, 4, 0, 2, 6], [6, 2, 0, 1, 4, 3, 8], [6, 2, 0, 1, 3, 4, 8]]\n"
          ]
        }
      ]
    },
    {
      "cell_type": "code",
      "source": [
        "# Convert the list of edges into a tuple of tuples\n",
        "permutations_tuples = tuple(map(tuple, permutations))\n",
        "\n",
        "# Count the frequency of each sublist\n",
        "permutations_counter = Counter(permutations_tuples)\n",
        "\n",
        "# Print the frequency of each sublist\n",
        "for sublist, count in permutations_counter.items():\n",
        "    print(sublist, count)"
      ],
      "metadata": {
        "colab": {
          "base_uri": "https://localhost:8080/"
        },
        "id": "3rAxQ2D1GVGJ",
        "outputId": "8d3f77e9-ab51-48d7-8df5-051ee999dded"
      },
      "execution_count": 197,
      "outputs": [
        {
          "output_type": "stream",
          "name": "stdout",
          "text": [
            "(8, 3, 1, 0, 4, 2, 6) 34\n",
            "(6, 2, 0, 1, 3, 8, 4) 40\n",
            "(2, 0, 1, 4, 3, 6, 8) 3\n",
            "(1, 4, 0, 2, 3, 6, 8) 1\n",
            "(3, 1, 8, 0, 4, 2, 6) 6\n",
            "(4, 1, 0, 2, 3, 8, 6) 7\n",
            "(8, 3, 1, 4, 0, 2, 6) 71\n",
            "(6, 2, 0, 1, 4, 3, 8) 68\n",
            "(6, 2, 0, 1, 3, 4, 8) 36\n",
            "(1, 0, 2, 6, 3, 8, 4) 4\n",
            "(0, 1, 3, 4, 2, 8, 6) 3\n",
            "(4, 1, 0, 2, 6, 3, 8) 20\n",
            "(0, 1, 3, 2, 4, 6, 8) 5\n",
            "(4, 1, 0, 3, 8, 2, 6) 24\n",
            "(0, 2, 6, 1, 3, 8, 4) 17\n",
            "(1, 0, 2, 6, 4, 3, 8) 2\n",
            "(3, 1, 8, 0, 2, 4, 6) 2\n",
            "(3, 1, 8, 4, 0, 2, 6) 18\n",
            "(8, 3, 1, 0, 2, 6, 4) 21\n",
            "(2, 6, 0, 1, 4, 3, 8) 41\n",
            "(0, 2, 1, 3, 4, 6, 8) 1\n",
            "(3, 1, 0, 2, 4, 8, 6) 2\n",
            "(1, 3, 8, 0, 2, 6, 4) 2\n",
            "(2, 6, 0, 1, 3, 8, 4) 12\n",
            "(4, 1, 3, 0, 8, 2, 6) 25\n",
            "(4, 1, 3, 8, 0, 2, 6) 28\n",
            "(1, 0, 3, 8, 2, 6, 4) 3\n",
            "(3, 1, 8, 0, 2, 6, 4) 4\n",
            "(3, 8, 1, 4, 0, 2, 6) 34\n",
            "(3, 8, 1, 0, 2, 6, 4) 9\n",
            "(1, 0, 4, 2, 3, 8, 6) 4\n",
            "(1, 0, 3, 4, 2, 8, 6) 3\n",
            "(0, 1, 2, 6, 4, 3, 8) 3\n",
            "(0, 1, 3, 4, 8, 2, 6) 5\n",
            "(1, 4, 3, 8, 0, 2, 6) 13\n",
            "(3, 1, 4, 8, 0, 2, 6) 8\n",
            "(4, 1, 3, 0, 2, 8, 6) 8\n",
            "(3, 1, 4, 0, 8, 2, 6) 6\n",
            "(1, 0, 2, 4, 3, 8, 6) 2\n",
            "(1, 3, 0, 2, 6, 4, 8) 1\n",
            "(0, 1, 4, 3, 2, 6, 8) 6\n",
            "(3, 1, 0, 4, 8, 2, 6) 1\n",
            "(3, 8, 1, 0, 4, 2, 6) 14\n",
            "(0, 2, 1, 6, 4, 3, 8) 9\n",
            "(2, 0, 6, 1, 3, 8, 4) 14\n",
            "(0, 2, 6, 1, 4, 3, 8) 16\n",
            "(2, 0, 6, 1, 3, 4, 8) 8\n",
            "(3, 1, 0, 2, 8, 6, 4) 2\n",
            "(1, 3, 4, 8, 0, 2, 6) 10\n",
            "(1, 3, 8, 4, 0, 2, 6) 4\n",
            "(2, 6, 0, 1, 3, 4, 8) 19\n",
            "(0, 1, 4, 3, 8, 2, 6) 5\n",
            "(0, 1, 2, 4, 6, 3, 8) 5\n",
            "(1, 0, 4, 3, 2, 8, 6) 2\n",
            "(0, 2, 1, 6, 3, 8, 4) 3\n",
            "(1, 4, 0, 3, 2, 6, 8) 4\n",
            "(1, 0, 2, 3, 6, 4, 8) 1\n",
            "(0, 1, 3, 8, 4, 2, 6) 7\n",
            "(1, 3, 0, 4, 2, 8, 6) 2\n",
            "(2, 0, 6, 1, 4, 3, 8) 14\n",
            "(4, 1, 3, 0, 2, 6, 8) 10\n",
            "(4, 1, 0, 2, 3, 6, 8) 5\n",
            "(0, 1, 2, 6, 3, 8, 4) 1\n",
            "(0, 1, 3, 8, 2, 6, 4) 4\n",
            "(1, 4, 0, 2, 3, 8, 6) 1\n",
            "(1, 4, 0, 3, 8, 2, 6) 6\n",
            "(4, 1, 0, 3, 2, 6, 8) 6\n",
            "(0, 2, 1, 4, 6, 3, 8) 9\n",
            "(0, 2, 1, 3, 6, 4, 8) 3\n",
            "(0, 1, 4, 2, 6, 3, 8) 8\n",
            "(1, 3, 0, 4, 2, 6, 8) 2\n",
            "(1, 0, 4, 2, 6, 3, 8) 3\n",
            "(3, 8, 1, 0, 2, 4, 6) 5\n",
            "(1, 0, 2, 6, 3, 4, 8) 2\n",
            "(0, 1, 2, 3, 6, 4, 8) 3\n",
            "(3, 1, 0, 8, 2, 6, 4) 6\n",
            "(0, 1, 2, 3, 4, 6, 8) 2\n",
            "(0, 1, 2, 4, 3, 6, 8) 4\n",
            "(2, 0, 1, 6, 3, 8, 4) 4\n",
            "(1, 4, 0, 2, 6, 3, 8) 4\n",
            "(0, 1, 3, 2, 8, 4, 6) 4\n",
            "(1, 0, 4, 2, 3, 6, 8) 2\n",
            "(1, 0, 3, 8, 4, 2, 6) 3\n",
            "(1, 0, 2, 3, 6, 8, 4) 2\n",
            "(0, 2, 6, 1, 3, 4, 8) 11\n",
            "(1, 3, 0, 2, 8, 4, 6) 1\n",
            "(3, 1, 0, 2, 8, 4, 6) 2\n",
            "(8, 3, 1, 0, 2, 4, 6) 14\n",
            "(3, 1, 0, 2, 6, 4, 8) 2\n",
            "(1, 0, 2, 3, 8, 4, 6) 2\n",
            "(1, 3, 8, 0, 2, 4, 6) 1\n",
            "(3, 1, 0, 8, 4, 2, 6) 7\n",
            "(1, 0, 3, 2, 4, 6, 8) 1\n",
            "(2, 0, 1, 4, 3, 8, 6) 2\n",
            "(3, 1, 0, 2, 6, 8, 4) 2\n",
            "(4, 1, 0, 3, 2, 8, 6) 7\n",
            "(1, 0, 4, 3, 8, 2, 6) 6\n",
            "(1, 4, 0, 3, 2, 8, 6) 6\n",
            "(0, 2, 1, 4, 3, 8, 6) 2\n",
            "(1, 3, 8, 0, 4, 2, 6) 3\n",
            "(3, 1, 4, 0, 2, 8, 6) 3\n",
            "(1, 4, 3, 0, 2, 6, 8) 5\n",
            "(1, 3, 4, 0, 2, 8, 6) 4\n",
            "(1, 3, 0, 8, 2, 4, 6) 1\n",
            "(1, 0, 4, 3, 2, 6, 8) 3\n",
            "(1, 0, 3, 4, 2, 6, 8) 1\n",
            "(1, 0, 2, 4, 6, 3, 8) 1\n",
            "(1, 0, 2, 3, 4, 6, 8) 2\n",
            "(1, 3, 0, 8, 4, 2, 6) 4\n",
            "(1, 3, 4, 0, 8, 2, 6) 3\n",
            "(1, 3, 0, 8, 2, 6, 4) 3\n",
            "(3, 1, 0, 8, 2, 4, 6) 2\n",
            "(0, 1, 4, 2, 3, 6, 8) 3\n",
            "(0, 2, 1, 4, 3, 6, 8) 5\n",
            "(2, 0, 1, 3, 8, 4, 6) 3\n",
            "(1, 4, 3, 0, 2, 8, 6) 1\n",
            "(2, 0, 1, 3, 4, 6, 8) 4\n",
            "(1, 3, 0, 2, 6, 8, 4) 2\n",
            "(0, 2, 1, 3, 6, 8, 4) 2\n",
            "(1, 3, 4, 0, 2, 6, 8) 3\n",
            "(1, 0, 3, 4, 8, 2, 6) 3\n",
            "(2, 0, 1, 4, 6, 3, 8) 4\n",
            "(0, 1, 2, 3, 8, 6, 4) 1\n",
            "(0, 2, 1, 6, 3, 4, 8) 1\n",
            "(3, 1, 4, 0, 2, 6, 8) 3\n",
            "(2, 0, 1, 3, 4, 8, 6) 1\n",
            "(0, 1, 4, 3, 2, 8, 6) 1\n",
            "(0, 1, 3, 4, 2, 6, 8) 2\n",
            "(2, 0, 1, 3, 6, 4, 8) 1\n",
            "(0, 1, 3, 2, 6, 4, 8) 1\n",
            "(0, 1, 3, 8, 2, 4, 6) 2\n",
            "(2, 0, 1, 6, 3, 4, 8) 4\n",
            "(3, 1, 0, 4, 2, 6, 8) 1\n",
            "(2, 0, 1, 3, 6, 8, 4) 1\n",
            "(0, 1, 2, 3, 8, 4, 6) 1\n",
            "(1, 0, 3, 2, 8, 4, 6) 1\n",
            "(1, 4, 3, 0, 8, 2, 6) 1\n",
            "(1, 3, 0, 4, 8, 2, 6) 1\n",
            "(0, 1, 4, 2, 3, 8, 6) 2\n",
            "(0, 1, 2, 4, 3, 8, 6) 1\n",
            "(2, 0, 1, 6, 4, 3, 8) 1\n",
            "(3, 1, 0, 4, 2, 8, 6) 1\n"
          ]
        }
      ]
    },
    {
      "cell_type": "code",
      "source": [
        "permutations_counter.most_common()"
      ],
      "metadata": {
        "colab": {
          "base_uri": "https://localhost:8080/"
        },
        "id": "16PsVVAJGVLp",
        "outputId": "4b8367b3-42b1-4304-c3c3-0576992b0135"
      },
      "execution_count": 198,
      "outputs": [
        {
          "output_type": "execute_result",
          "data": {
            "text/plain": [
              "[((8, 3, 1, 4, 0, 2, 6), 71),\n",
              " ((6, 2, 0, 1, 4, 3, 8), 68),\n",
              " ((2, 6, 0, 1, 4, 3, 8), 41),\n",
              " ((6, 2, 0, 1, 3, 8, 4), 40),\n",
              " ((6, 2, 0, 1, 3, 4, 8), 36),\n",
              " ((8, 3, 1, 0, 4, 2, 6), 34),\n",
              " ((3, 8, 1, 4, 0, 2, 6), 34),\n",
              " ((4, 1, 3, 8, 0, 2, 6), 28),\n",
              " ((4, 1, 3, 0, 8, 2, 6), 25),\n",
              " ((4, 1, 0, 3, 8, 2, 6), 24),\n",
              " ((8, 3, 1, 0, 2, 6, 4), 21),\n",
              " ((4, 1, 0, 2, 6, 3, 8), 20),\n",
              " ((2, 6, 0, 1, 3, 4, 8), 19),\n",
              " ((3, 1, 8, 4, 0, 2, 6), 18),\n",
              " ((0, 2, 6, 1, 3, 8, 4), 17),\n",
              " ((0, 2, 6, 1, 4, 3, 8), 16),\n",
              " ((3, 8, 1, 0, 4, 2, 6), 14),\n",
              " ((2, 0, 6, 1, 3, 8, 4), 14),\n",
              " ((2, 0, 6, 1, 4, 3, 8), 14),\n",
              " ((8, 3, 1, 0, 2, 4, 6), 14),\n",
              " ((1, 4, 3, 8, 0, 2, 6), 13),\n",
              " ((2, 6, 0, 1, 3, 8, 4), 12),\n",
              " ((0, 2, 6, 1, 3, 4, 8), 11),\n",
              " ((1, 3, 4, 8, 0, 2, 6), 10),\n",
              " ((4, 1, 3, 0, 2, 6, 8), 10),\n",
              " ((3, 8, 1, 0, 2, 6, 4), 9),\n",
              " ((0, 2, 1, 6, 4, 3, 8), 9),\n",
              " ((0, 2, 1, 4, 6, 3, 8), 9),\n",
              " ((3, 1, 4, 8, 0, 2, 6), 8),\n",
              " ((4, 1, 3, 0, 2, 8, 6), 8),\n",
              " ((2, 0, 6, 1, 3, 4, 8), 8),\n",
              " ((0, 1, 4, 2, 6, 3, 8), 8),\n",
              " ((4, 1, 0, 2, 3, 8, 6), 7),\n",
              " ((0, 1, 3, 8, 4, 2, 6), 7),\n",
              " ((3, 1, 0, 8, 4, 2, 6), 7),\n",
              " ((4, 1, 0, 3, 2, 8, 6), 7),\n",
              " ((3, 1, 8, 0, 4, 2, 6), 6),\n",
              " ((3, 1, 4, 0, 8, 2, 6), 6),\n",
              " ((0, 1, 4, 3, 2, 6, 8), 6),\n",
              " ((1, 4, 0, 3, 8, 2, 6), 6),\n",
              " ((4, 1, 0, 3, 2, 6, 8), 6),\n",
              " ((3, 1, 0, 8, 2, 6, 4), 6),\n",
              " ((1, 0, 4, 3, 8, 2, 6), 6),\n",
              " ((1, 4, 0, 3, 2, 8, 6), 6),\n",
              " ((0, 1, 3, 2, 4, 6, 8), 5),\n",
              " ((0, 1, 3, 4, 8, 2, 6), 5),\n",
              " ((0, 1, 4, 3, 8, 2, 6), 5),\n",
              " ((0, 1, 2, 4, 6, 3, 8), 5),\n",
              " ((4, 1, 0, 2, 3, 6, 8), 5),\n",
              " ((3, 8, 1, 0, 2, 4, 6), 5),\n",
              " ((1, 4, 3, 0, 2, 6, 8), 5),\n",
              " ((0, 2, 1, 4, 3, 6, 8), 5),\n",
              " ((1, 0, 2, 6, 3, 8, 4), 4),\n",
              " ((3, 1, 8, 0, 2, 6, 4), 4),\n",
              " ((1, 0, 4, 2, 3, 8, 6), 4),\n",
              " ((1, 3, 8, 4, 0, 2, 6), 4),\n",
              " ((1, 4, 0, 3, 2, 6, 8), 4),\n",
              " ((0, 1, 3, 8, 2, 6, 4), 4),\n",
              " ((0, 1, 2, 4, 3, 6, 8), 4),\n",
              " ((2, 0, 1, 6, 3, 8, 4), 4),\n",
              " ((1, 4, 0, 2, 6, 3, 8), 4),\n",
              " ((0, 1, 3, 2, 8, 4, 6), 4),\n",
              " ((1, 3, 4, 0, 2, 8, 6), 4),\n",
              " ((1, 3, 0, 8, 4, 2, 6), 4),\n",
              " ((2, 0, 1, 3, 4, 6, 8), 4),\n",
              " ((2, 0, 1, 4, 6, 3, 8), 4),\n",
              " ((2, 0, 1, 6, 3, 4, 8), 4),\n",
              " ((2, 0, 1, 4, 3, 6, 8), 3),\n",
              " ((0, 1, 3, 4, 2, 8, 6), 3),\n",
              " ((1, 0, 3, 8, 2, 6, 4), 3),\n",
              " ((1, 0, 3, 4, 2, 8, 6), 3),\n",
              " ((0, 1, 2, 6, 4, 3, 8), 3),\n",
              " ((0, 2, 1, 6, 3, 8, 4), 3),\n",
              " ((0, 2, 1, 3, 6, 4, 8), 3),\n",
              " ((1, 0, 4, 2, 6, 3, 8), 3),\n",
              " ((0, 1, 2, 3, 6, 4, 8), 3),\n",
              " ((1, 0, 3, 8, 4, 2, 6), 3),\n",
              " ((1, 3, 8, 0, 4, 2, 6), 3),\n",
              " ((3, 1, 4, 0, 2, 8, 6), 3),\n",
              " ((1, 0, 4, 3, 2, 6, 8), 3),\n",
              " ((1, 3, 4, 0, 8, 2, 6), 3),\n",
              " ((1, 3, 0, 8, 2, 6, 4), 3),\n",
              " ((0, 1, 4, 2, 3, 6, 8), 3),\n",
              " ((2, 0, 1, 3, 8, 4, 6), 3),\n",
              " ((1, 3, 4, 0, 2, 6, 8), 3),\n",
              " ((1, 0, 3, 4, 8, 2, 6), 3),\n",
              " ((3, 1, 4, 0, 2, 6, 8), 3),\n",
              " ((1, 0, 2, 6, 4, 3, 8), 2),\n",
              " ((3, 1, 8, 0, 2, 4, 6), 2),\n",
              " ((3, 1, 0, 2, 4, 8, 6), 2),\n",
              " ((1, 3, 8, 0, 2, 6, 4), 2),\n",
              " ((1, 0, 2, 4, 3, 8, 6), 2),\n",
              " ((3, 1, 0, 2, 8, 6, 4), 2),\n",
              " ((1, 0, 4, 3, 2, 8, 6), 2),\n",
              " ((1, 3, 0, 4, 2, 8, 6), 2),\n",
              " ((1, 3, 0, 4, 2, 6, 8), 2),\n",
              " ((1, 0, 2, 6, 3, 4, 8), 2),\n",
              " ((0, 1, 2, 3, 4, 6, 8), 2),\n",
              " ((1, 0, 4, 2, 3, 6, 8), 2),\n",
              " ((1, 0, 2, 3, 6, 8, 4), 2),\n",
              " ((3, 1, 0, 2, 8, 4, 6), 2),\n",
              " ((3, 1, 0, 2, 6, 4, 8), 2),\n",
              " ((1, 0, 2, 3, 8, 4, 6), 2),\n",
              " ((2, 0, 1, 4, 3, 8, 6), 2),\n",
              " ((3, 1, 0, 2, 6, 8, 4), 2),\n",
              " ((0, 2, 1, 4, 3, 8, 6), 2),\n",
              " ((1, 0, 2, 3, 4, 6, 8), 2),\n",
              " ((3, 1, 0, 8, 2, 4, 6), 2),\n",
              " ((1, 3, 0, 2, 6, 8, 4), 2),\n",
              " ((0, 2, 1, 3, 6, 8, 4), 2),\n",
              " ((0, 1, 3, 4, 2, 6, 8), 2),\n",
              " ((0, 1, 3, 8, 2, 4, 6), 2),\n",
              " ((0, 1, 4, 2, 3, 8, 6), 2),\n",
              " ((1, 4, 0, 2, 3, 6, 8), 1),\n",
              " ((0, 2, 1, 3, 4, 6, 8), 1),\n",
              " ((1, 3, 0, 2, 6, 4, 8), 1),\n",
              " ((3, 1, 0, 4, 8, 2, 6), 1),\n",
              " ((1, 0, 2, 3, 6, 4, 8), 1),\n",
              " ((0, 1, 2, 6, 3, 8, 4), 1),\n",
              " ((1, 4, 0, 2, 3, 8, 6), 1),\n",
              " ((1, 3, 0, 2, 8, 4, 6), 1),\n",
              " ((1, 3, 8, 0, 2, 4, 6), 1),\n",
              " ((1, 0, 3, 2, 4, 6, 8), 1),\n",
              " ((1, 3, 0, 8, 2, 4, 6), 1),\n",
              " ((1, 0, 3, 4, 2, 6, 8), 1),\n",
              " ((1, 0, 2, 4, 6, 3, 8), 1),\n",
              " ((1, 4, 3, 0, 2, 8, 6), 1),\n",
              " ((0, 1, 2, 3, 8, 6, 4), 1),\n",
              " ((0, 2, 1, 6, 3, 4, 8), 1),\n",
              " ((2, 0, 1, 3, 4, 8, 6), 1),\n",
              " ((0, 1, 4, 3, 2, 8, 6), 1),\n",
              " ((2, 0, 1, 3, 6, 4, 8), 1),\n",
              " ((0, 1, 3, 2, 6, 4, 8), 1),\n",
              " ((3, 1, 0, 4, 2, 6, 8), 1),\n",
              " ((2, 0, 1, 3, 6, 8, 4), 1),\n",
              " ((0, 1, 2, 3, 8, 4, 6), 1),\n",
              " ((1, 0, 3, 2, 8, 4, 6), 1),\n",
              " ((1, 4, 3, 0, 8, 2, 6), 1),\n",
              " ((1, 3, 0, 4, 8, 2, 6), 1),\n",
              " ((0, 1, 2, 4, 3, 8, 6), 1),\n",
              " ((2, 0, 1, 6, 4, 3, 8), 1),\n",
              " ((3, 1, 0, 4, 2, 8, 6), 1)]"
            ]
          },
          "metadata": {},
          "execution_count": 198
        }
      ]
    },
    {
      "cell_type": "markdown",
      "source": [
        "# Next Step"
      ],
      "metadata": {
        "id": "o06WMbd8HvYg"
      }
    },
    {
      "cell_type": "markdown",
      "source": [
        "Compute probability for each permutation using equation from Devavrat Shah\n",
        "\n",
        "$$\n",
        "\\mathbf{P}(\\sigma \\mid v)=\\prod_{k=2}^N \\frac{1}{d_1(\\sigma)+\\sum_{i=2}^k\\left(d_i(\\sigma)-2\\right)}\n",
        "$$"
      ],
      "metadata": {
        "id": "zFxnB_9kHzwt"
      }
    }
  ]
}